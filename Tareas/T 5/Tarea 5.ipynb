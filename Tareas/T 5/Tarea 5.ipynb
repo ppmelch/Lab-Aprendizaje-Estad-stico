{
 "cells": [
  {
   "cell_type": "code",
   "execution_count": 133,
   "metadata": {},
   "outputs": [],
   "source": [
    "import pandas as pd\n",
    "from sklearn.neighbors import KNeighborsRegressor\n",
    "from sklearn.model_selection import train_test_split\n",
    "from sklearn.preprocessing import StandardScaler\n",
    "import numpy as np\n",
    "from sklearn.metrics import r2_score\n",
    "import matplotlib.pyplot as plt\n",
    "from sklearn import linear_model\n",
    "from sklearn.metrics import accuracy_score\n",
    "import statsmodels.formula.api as smf\n"
   ]
  },
  {
   "cell_type": "code",
   "execution_count": 134,
   "metadata": {},
   "outputs": [
    {
     "name": "stdout",
     "output_type": "stream",
     "text": [
      "<class 'pandas.core.frame.DataFrame'>\n",
      "RangeIndex: 2149 entries, 0 to 2148\n",
      "Data columns (total 35 columns):\n",
      " #   Column                     Non-Null Count  Dtype  \n",
      "---  ------                     --------------  -----  \n",
      " 0   PatientID                  2149 non-null   int64  \n",
      " 1   Age                        2149 non-null   int64  \n",
      " 2   Gender                     2149 non-null   int64  \n",
      " 3   Ethnicity                  2149 non-null   int64  \n",
      " 4   EducationLevel             2149 non-null   int64  \n",
      " 5   BMI                        2149 non-null   float64\n",
      " 6   Smoking                    2149 non-null   int64  \n",
      " 7   AlcoholConsumption         2149 non-null   float64\n",
      " 8   PhysicalActivity           2149 non-null   float64\n",
      " 9   DietQuality                2149 non-null   float64\n",
      " 10  SleepQuality               2149 non-null   float64\n",
      " 11  FamilyHistoryAlzheimers    2149 non-null   int64  \n",
      " 12  CardiovascularDisease      2149 non-null   int64  \n",
      " 13  Diabetes                   2149 non-null   int64  \n",
      " 14  Depression                 2149 non-null   int64  \n",
      " 15  HeadInjury                 2149 non-null   int64  \n",
      " 16  Hypertension               2149 non-null   int64  \n",
      " 17  SystolicBP                 2149 non-null   int64  \n",
      " 18  DiastolicBP                2149 non-null   int64  \n",
      " 19  CholesterolTotal           2149 non-null   float64\n",
      " 20  CholesterolLDL             2149 non-null   float64\n",
      " 21  CholesterolHDL             2149 non-null   float64\n",
      " 22  CholesterolTriglycerides   2149 non-null   float64\n",
      " 23  MMSE                       2149 non-null   float64\n",
      " 24  FunctionalAssessment       2149 non-null   float64\n",
      " 25  MemoryComplaints           2149 non-null   int64  \n",
      " 26  BehavioralProblems         2149 non-null   int64  \n",
      " 27  ADL                        2149 non-null   float64\n",
      " 28  Confusion                  2149 non-null   int64  \n",
      " 29  Disorientation             2149 non-null   int64  \n",
      " 30  PersonalityChanges         2149 non-null   int64  \n",
      " 31  DifficultyCompletingTasks  2149 non-null   int64  \n",
      " 32  Forgetfulness              2149 non-null   int64  \n",
      " 33  Diagnosis                  2149 non-null   int64  \n",
      " 34  DoctorInCharge             2149 non-null   object \n",
      "dtypes: float64(12), int64(22), object(1)\n",
      "memory usage: 587.7+ KB\n"
     ]
    }
   ],
   "source": [
    "df= pd.read_csv('alzheimers_disease_data.csv')\n",
    "df.info()"
   ]
  },
  {
   "cell_type": "code",
   "execution_count": 135,
   "metadata": {},
   "outputs": [
    {
     "data": {
      "text/plain": [
       "PatientID                    0\n",
       "Age                          0\n",
       "Gender                       0\n",
       "Ethnicity                    0\n",
       "EducationLevel               0\n",
       "BMI                          0\n",
       "Smoking                      0\n",
       "AlcoholConsumption           0\n",
       "PhysicalActivity             0\n",
       "DietQuality                  0\n",
       "SleepQuality                 0\n",
       "FamilyHistoryAlzheimers      0\n",
       "CardiovascularDisease        0\n",
       "Diabetes                     0\n",
       "Depression                   0\n",
       "HeadInjury                   0\n",
       "Hypertension                 0\n",
       "SystolicBP                   0\n",
       "DiastolicBP                  0\n",
       "CholesterolTotal             0\n",
       "CholesterolLDL               0\n",
       "CholesterolHDL               0\n",
       "CholesterolTriglycerides     0\n",
       "MMSE                         0\n",
       "FunctionalAssessment         0\n",
       "MemoryComplaints             0\n",
       "BehavioralProblems           0\n",
       "ADL                          0\n",
       "Confusion                    0\n",
       "Disorientation               0\n",
       "PersonalityChanges           0\n",
       "DifficultyCompletingTasks    0\n",
       "Forgetfulness                0\n",
       "Diagnosis                    0\n",
       "DoctorInCharge               0\n",
       "dtype: int64"
      ]
     },
     "execution_count": 135,
     "metadata": {},
     "output_type": "execute_result"
    }
   ],
   "source": [
    "df.isna().sum()"
   ]
  },
  {
   "cell_type": "markdown",
   "metadata": {},
   "source": [
    "No hay NAN's"
   ]
  },
  {
   "cell_type": "code",
   "execution_count": 136,
   "metadata": {},
   "outputs": [
    {
     "data": {
      "text/html": [
       "<div>\n",
       "<style scoped>\n",
       "    .dataframe tbody tr th:only-of-type {\n",
       "        vertical-align: middle;\n",
       "    }\n",
       "\n",
       "    .dataframe tbody tr th {\n",
       "        vertical-align: top;\n",
       "    }\n",
       "\n",
       "    .dataframe thead th {\n",
       "        text-align: right;\n",
       "    }\n",
       "</style>\n",
       "<table border=\"1\" class=\"dataframe\">\n",
       "  <thead>\n",
       "    <tr style=\"text-align: right;\">\n",
       "      <th></th>\n",
       "      <th>Age</th>\n",
       "      <th>Gender</th>\n",
       "      <th>Ethnicity</th>\n",
       "      <th>EducationLevel</th>\n",
       "      <th>BMI</th>\n",
       "      <th>Smoking</th>\n",
       "      <th>AlcoholConsumption</th>\n",
       "      <th>PhysicalActivity</th>\n",
       "      <th>DietQuality</th>\n",
       "      <th>SleepQuality</th>\n",
       "      <th>...</th>\n",
       "      <th>FunctionalAssessment</th>\n",
       "      <th>MemoryComplaints</th>\n",
       "      <th>BehavioralProblems</th>\n",
       "      <th>ADL</th>\n",
       "      <th>Confusion</th>\n",
       "      <th>Disorientation</th>\n",
       "      <th>PersonalityChanges</th>\n",
       "      <th>DifficultyCompletingTasks</th>\n",
       "      <th>Forgetfulness</th>\n",
       "      <th>Diagnosis</th>\n",
       "    </tr>\n",
       "  </thead>\n",
       "  <tbody>\n",
       "    <tr>\n",
       "      <th>0</th>\n",
       "      <td>73</td>\n",
       "      <td>0</td>\n",
       "      <td>0</td>\n",
       "      <td>2</td>\n",
       "      <td>22.927749</td>\n",
       "      <td>0</td>\n",
       "      <td>13.297218</td>\n",
       "      <td>6.327112</td>\n",
       "      <td>1.347214</td>\n",
       "      <td>9.025679</td>\n",
       "      <td>...</td>\n",
       "      <td>6.518877</td>\n",
       "      <td>0</td>\n",
       "      <td>0</td>\n",
       "      <td>1.725883</td>\n",
       "      <td>0</td>\n",
       "      <td>0</td>\n",
       "      <td>0</td>\n",
       "      <td>1</td>\n",
       "      <td>0</td>\n",
       "      <td>0</td>\n",
       "    </tr>\n",
       "    <tr>\n",
       "      <th>1</th>\n",
       "      <td>89</td>\n",
       "      <td>0</td>\n",
       "      <td>0</td>\n",
       "      <td>0</td>\n",
       "      <td>26.827681</td>\n",
       "      <td>0</td>\n",
       "      <td>4.542524</td>\n",
       "      <td>7.619885</td>\n",
       "      <td>0.518767</td>\n",
       "      <td>7.151293</td>\n",
       "      <td>...</td>\n",
       "      <td>7.118696</td>\n",
       "      <td>0</td>\n",
       "      <td>0</td>\n",
       "      <td>2.592424</td>\n",
       "      <td>0</td>\n",
       "      <td>0</td>\n",
       "      <td>0</td>\n",
       "      <td>0</td>\n",
       "      <td>1</td>\n",
       "      <td>0</td>\n",
       "    </tr>\n",
       "    <tr>\n",
       "      <th>2</th>\n",
       "      <td>73</td>\n",
       "      <td>0</td>\n",
       "      <td>3</td>\n",
       "      <td>1</td>\n",
       "      <td>17.795882</td>\n",
       "      <td>0</td>\n",
       "      <td>19.555085</td>\n",
       "      <td>7.844988</td>\n",
       "      <td>1.826335</td>\n",
       "      <td>9.673574</td>\n",
       "      <td>...</td>\n",
       "      <td>5.895077</td>\n",
       "      <td>0</td>\n",
       "      <td>0</td>\n",
       "      <td>7.119548</td>\n",
       "      <td>0</td>\n",
       "      <td>1</td>\n",
       "      <td>0</td>\n",
       "      <td>1</td>\n",
       "      <td>0</td>\n",
       "      <td>0</td>\n",
       "    </tr>\n",
       "    <tr>\n",
       "      <th>3</th>\n",
       "      <td>74</td>\n",
       "      <td>1</td>\n",
       "      <td>0</td>\n",
       "      <td>1</td>\n",
       "      <td>33.800817</td>\n",
       "      <td>1</td>\n",
       "      <td>12.209266</td>\n",
       "      <td>8.428001</td>\n",
       "      <td>7.435604</td>\n",
       "      <td>8.392554</td>\n",
       "      <td>...</td>\n",
       "      <td>8.965106</td>\n",
       "      <td>0</td>\n",
       "      <td>1</td>\n",
       "      <td>6.481226</td>\n",
       "      <td>0</td>\n",
       "      <td>0</td>\n",
       "      <td>0</td>\n",
       "      <td>0</td>\n",
       "      <td>0</td>\n",
       "      <td>0</td>\n",
       "    </tr>\n",
       "    <tr>\n",
       "      <th>4</th>\n",
       "      <td>89</td>\n",
       "      <td>0</td>\n",
       "      <td>0</td>\n",
       "      <td>0</td>\n",
       "      <td>20.716974</td>\n",
       "      <td>0</td>\n",
       "      <td>18.454356</td>\n",
       "      <td>6.310461</td>\n",
       "      <td>0.795498</td>\n",
       "      <td>5.597238</td>\n",
       "      <td>...</td>\n",
       "      <td>6.045039</td>\n",
       "      <td>0</td>\n",
       "      <td>0</td>\n",
       "      <td>0.014691</td>\n",
       "      <td>0</td>\n",
       "      <td>0</td>\n",
       "      <td>1</td>\n",
       "      <td>1</td>\n",
       "      <td>0</td>\n",
       "      <td>0</td>\n",
       "    </tr>\n",
       "  </tbody>\n",
       "</table>\n",
       "<p>5 rows × 33 columns</p>\n",
       "</div>"
      ],
      "text/plain": [
       "   Age  Gender  Ethnicity  EducationLevel        BMI  Smoking  \\\n",
       "0   73       0          0               2  22.927749        0   \n",
       "1   89       0          0               0  26.827681        0   \n",
       "2   73       0          3               1  17.795882        0   \n",
       "3   74       1          0               1  33.800817        1   \n",
       "4   89       0          0               0  20.716974        0   \n",
       "\n",
       "   AlcoholConsumption  PhysicalActivity  DietQuality  SleepQuality  ...  \\\n",
       "0           13.297218          6.327112     1.347214      9.025679  ...   \n",
       "1            4.542524          7.619885     0.518767      7.151293  ...   \n",
       "2           19.555085          7.844988     1.826335      9.673574  ...   \n",
       "3           12.209266          8.428001     7.435604      8.392554  ...   \n",
       "4           18.454356          6.310461     0.795498      5.597238  ...   \n",
       "\n",
       "   FunctionalAssessment  MemoryComplaints  BehavioralProblems       ADL  \\\n",
       "0              6.518877                 0                   0  1.725883   \n",
       "1              7.118696                 0                   0  2.592424   \n",
       "2              5.895077                 0                   0  7.119548   \n",
       "3              8.965106                 0                   1  6.481226   \n",
       "4              6.045039                 0                   0  0.014691   \n",
       "\n",
       "   Confusion  Disorientation  PersonalityChanges  DifficultyCompletingTasks  \\\n",
       "0          0               0                   0                          1   \n",
       "1          0               0                   0                          0   \n",
       "2          0               1                   0                          1   \n",
       "3          0               0                   0                          0   \n",
       "4          0               0                   1                          1   \n",
       "\n",
       "   Forgetfulness  Diagnosis  \n",
       "0              0          0  \n",
       "1              1          0  \n",
       "2              0          0  \n",
       "3              0          0  \n",
       "4              0          0  \n",
       "\n",
       "[5 rows x 33 columns]"
      ]
     },
     "execution_count": 136,
     "metadata": {},
     "output_type": "execute_result"
    }
   ],
   "source": [
    "df= df.drop(columns=['PatientID','DoctorInCharge'])\n",
    "df.head()"
   ]
  },
  {
   "cell_type": "code",
   "execution_count": 137,
   "metadata": {},
   "outputs": [],
   "source": [
    "df= pd.get_dummies(df)"
   ]
  },
  {
   "cell_type": "code",
   "execution_count": 138,
   "metadata": {},
   "outputs": [
    {
     "data": {
      "text/html": [
       "<div>\n",
       "<style scoped>\n",
       "    .dataframe tbody tr th:only-of-type {\n",
       "        vertical-align: middle;\n",
       "    }\n",
       "\n",
       "    .dataframe tbody tr th {\n",
       "        vertical-align: top;\n",
       "    }\n",
       "\n",
       "    .dataframe thead th {\n",
       "        text-align: right;\n",
       "    }\n",
       "</style>\n",
       "<table border=\"1\" class=\"dataframe\">\n",
       "  <thead>\n",
       "    <tr style=\"text-align: right;\">\n",
       "      <th></th>\n",
       "      <th>Age</th>\n",
       "      <th>Gender</th>\n",
       "      <th>Ethnicity</th>\n",
       "      <th>EducationLevel</th>\n",
       "      <th>BMI</th>\n",
       "      <th>Smoking</th>\n",
       "      <th>AlcoholConsumption</th>\n",
       "      <th>PhysicalActivity</th>\n",
       "      <th>DietQuality</th>\n",
       "      <th>SleepQuality</th>\n",
       "      <th>...</th>\n",
       "      <th>MMSE</th>\n",
       "      <th>FunctionalAssessment</th>\n",
       "      <th>MemoryComplaints</th>\n",
       "      <th>BehavioralProblems</th>\n",
       "      <th>ADL</th>\n",
       "      <th>Confusion</th>\n",
       "      <th>Disorientation</th>\n",
       "      <th>PersonalityChanges</th>\n",
       "      <th>DifficultyCompletingTasks</th>\n",
       "      <th>Forgetfulness</th>\n",
       "    </tr>\n",
       "    <tr>\n",
       "      <th>Diagnosis</th>\n",
       "      <th></th>\n",
       "      <th></th>\n",
       "      <th></th>\n",
       "      <th></th>\n",
       "      <th></th>\n",
       "      <th></th>\n",
       "      <th></th>\n",
       "      <th></th>\n",
       "      <th></th>\n",
       "      <th></th>\n",
       "      <th></th>\n",
       "      <th></th>\n",
       "      <th></th>\n",
       "      <th></th>\n",
       "      <th></th>\n",
       "      <th></th>\n",
       "      <th></th>\n",
       "      <th></th>\n",
       "      <th></th>\n",
       "      <th></th>\n",
       "      <th></th>\n",
       "    </tr>\n",
       "  </thead>\n",
       "  <tbody>\n",
       "    <tr>\n",
       "      <th>0</th>\n",
       "      <td>74.945284</td>\n",
       "      <td>0.514039</td>\n",
       "      <td>0.708423</td>\n",
       "      <td>1.316055</td>\n",
       "      <td>27.515092</td>\n",
       "      <td>0.290137</td>\n",
       "      <td>10.071880</td>\n",
       "      <td>4.90764</td>\n",
       "      <td>4.974839</td>\n",
       "      <td>7.124832</td>\n",
       "      <td>...</td>\n",
       "      <td>16.265543</td>\n",
       "      <td>5.860669</td>\n",
       "      <td>0.115911</td>\n",
       "      <td>0.096472</td>\n",
       "      <td>5.707951</td>\n",
       "      <td>0.210943</td>\n",
       "      <td>0.164867</td>\n",
       "      <td>0.156228</td>\n",
       "      <td>0.156228</td>\n",
       "      <td>0.301656</td>\n",
       "    </tr>\n",
       "    <tr>\n",
       "      <th>1</th>\n",
       "      <td>74.842105</td>\n",
       "      <td>0.492105</td>\n",
       "      <td>0.677632</td>\n",
       "      <td>1.232895</td>\n",
       "      <td>27.912670</td>\n",
       "      <td>0.285526</td>\n",
       "      <td>9.980156</td>\n",
       "      <td>4.94316</td>\n",
       "      <td>5.026581</td>\n",
       "      <td>6.916292</td>\n",
       "      <td>...</td>\n",
       "      <td>11.994657</td>\n",
       "      <td>3.653380</td>\n",
       "      <td>0.376316</td>\n",
       "      <td>0.267105</td>\n",
       "      <td>3.657938</td>\n",
       "      <td>0.194737</td>\n",
       "      <td>0.146053</td>\n",
       "      <td>0.140789</td>\n",
       "      <td>0.163158</td>\n",
       "      <td>0.301316</td>\n",
       "    </tr>\n",
       "  </tbody>\n",
       "</table>\n",
       "<p>2 rows × 32 columns</p>\n",
       "</div>"
      ],
      "text/plain": [
       "                 Age    Gender  Ethnicity  EducationLevel        BMI  \\\n",
       "Diagnosis                                                              \n",
       "0          74.945284  0.514039   0.708423        1.316055  27.515092   \n",
       "1          74.842105  0.492105   0.677632        1.232895  27.912670   \n",
       "\n",
       "            Smoking  AlcoholConsumption  PhysicalActivity  DietQuality  \\\n",
       "Diagnosis                                                                \n",
       "0          0.290137           10.071880           4.90764     4.974839   \n",
       "1          0.285526            9.980156           4.94316     5.026581   \n",
       "\n",
       "           SleepQuality  ...       MMSE  FunctionalAssessment  \\\n",
       "Diagnosis                ...                                    \n",
       "0              7.124832  ...  16.265543              5.860669   \n",
       "1              6.916292  ...  11.994657              3.653380   \n",
       "\n",
       "           MemoryComplaints  BehavioralProblems       ADL  Confusion  \\\n",
       "Diagnosis                                                              \n",
       "0                  0.115911            0.096472  5.707951   0.210943   \n",
       "1                  0.376316            0.267105  3.657938   0.194737   \n",
       "\n",
       "           Disorientation  PersonalityChanges  DifficultyCompletingTasks  \\\n",
       "Diagnosis                                                                  \n",
       "0                0.164867            0.156228                   0.156228   \n",
       "1                0.146053            0.140789                   0.163158   \n",
       "\n",
       "           Forgetfulness  \n",
       "Diagnosis                 \n",
       "0               0.301656  \n",
       "1               0.301316  \n",
       "\n",
       "[2 rows x 32 columns]"
      ]
     },
     "execution_count": 138,
     "metadata": {},
     "output_type": "execute_result"
    }
   ],
   "source": [
    "df.groupby('Diagnosis').mean()"
   ]
  },
  {
   "cell_type": "code",
   "execution_count": 139,
   "metadata": {},
   "outputs": [
    {
     "name": "stderr",
     "output_type": "stream",
     "text": [
      "c:\\Users\\ppmel\\AppData\\Local\\Programs\\Python\\Python312\\Lib\\site-packages\\sklearn\\linear_model\\_logistic.py:465: ConvergenceWarning: lbfgs failed to converge (status=1):\n",
      "STOP: TOTAL NO. OF ITERATIONS REACHED LIMIT.\n",
      "\n",
      "Increase the number of iterations (max_iter) or scale the data as shown in:\n",
      "    https://scikit-learn.org/stable/modules/preprocessing.html\n",
      "Please also refer to the documentation for alternative solver options:\n",
      "    https://scikit-learn.org/stable/modules/linear_model.html#logistic-regression\n",
      "  n_iter_i = _check_optimize_result(\n"
     ]
    }
   ],
   "source": [
    "target = 'Diagnosis'\n",
    "X = df.drop(target, axis=1)\n",
    "y = df[target]\n",
    "\n",
    "X_train, X_test, y_train, y_test = train_test_split(X, y, test_size=0.3, random_state=42)\n",
    "\n",
    "model = linear_model.LogisticRegression().fit(X_train, y_train)"
   ]
  },
  {
   "cell_type": "code",
   "execution_count": 140,
   "metadata": {},
   "outputs": [],
   "source": [
    "probas = model.predict_proba(X_test)\n",
    "\n",
    "probabilidades = [i[1] for i in probas]\n",
    "predicciones = model.predict(X_test)\n",
    "\n",
    "calibracion = pd.DataFrame({\n",
    "     'target': y_test,\n",
    "     'probabilidades': probabilidades,\n",
    "     'predicciones': predicciones\n",
    "})"
   ]
  },
  {
   "cell_type": "code",
   "execution_count": 141,
   "metadata": {},
   "outputs": [],
   "source": [
    "calibracion['bins'] = pd.qcut(calibracion['probabilidades'], q=10, labels=False) + 1\n",
    "grouped = calibracion.groupby('bins').mean()"
   ]
  },
  {
   "cell_type": "code",
   "execution_count": 142,
   "metadata": {},
   "outputs": [
    {
     "data": {
      "image/png": "[encoded data removed]",
      "text/plain": [
       "<Figure size 640x480 with 1 Axes>"
      ]
     },
     "metadata": {},
     "output_type": "display_data"
    }
   ],
   "source": [
    "plt.plot(grouped.probabilidades, grouped.target, marker=\"o\")\n",
    "plt.plot(grouped.probabilidades, grouped.probabilidades, color='r')\n",
    "plt.xlabel(\"probabilidad\")\n",
    "plt.ylabel(\"Real\")\n",
    "plt.grid()"
   ]
  },
  {
   "cell_type": "code",
   "execution_count": 143,
   "metadata": {},
   "outputs": [
    {
     "name": "stdout",
     "output_type": "stream",
     "text": [
      "0.7565891472868217\n"
     ]
    }
   ],
   "source": [
    "print(np.mean(calibracion.predicciones == calibracion.target))"
   ]
  },
  {
   "cell_type": "code",
   "execution_count": 144,
   "metadata": {},
   "outputs": [
    {
     "name": "stdout",
     "output_type": "stream",
     "text": [
      "0.7565891472868217\n"
     ]
    }
   ],
   "source": [
    "print(accuracy_score(y_pred=calibracion.predicciones, y_true=calibracion.target))"
   ]
  },
  {
   "cell_type": "code",
   "execution_count": 145,
   "metadata": {},
   "outputs": [],
   "source": [
    "prob_1 = calibracion.query(\"target == 1\")['probabilidades']\n",
    "prob_0 = calibracion.query(\"target == 0\")['probabilidades']"
   ]
  },
  {
   "cell_type": "code",
   "execution_count": 146,
   "metadata": {},
   "outputs": [
    {
     "data": {
      "image/png": "[encoded data removed]",
      "text/plain": [
       "<Figure size 640x480 with 1 Axes>"
      ]
     },
     "metadata": {},
     "output_type": "display_data"
    }
   ],
   "source": [
    "plt.hist(prob_1, alpha = 0.5, density=True, label = 'Tiene Alzheimer')\n",
    "plt.hist(prob_0, alpha = 0.5, density=True, label = 'No Tiene Alzheimer')\n",
    "plt.legend()\n",
    "plt.grid()"
   ]
  },
  {
   "cell_type": "code",
   "execution_count": 147,
   "metadata": {},
   "outputs": [
    {
     "name": "stdout",
     "output_type": "stream",
     "text": [
      "                            OLS Regression Results                            \n",
      "==============================================================================\n",
      "Dep. Variable:              Diagnosis   R-squared:                       0.436\n",
      "Model:                            OLS   Adj. R-squared:                  0.428\n",
      "Method:                 Least Squares   F-statistic:                     51.21\n",
      "Date:                Wed, 26 Feb 2025   Prob (F-statistic):          2.60e-236\n",
      "Time:                        10:45:46   Log-Likelihood:                -847.32\n",
      "No. Observations:                2149   AIC:                             1761.\n",
      "Df Residuals:                    2116   BIC:                             1948.\n",
      "Df Model:                          32                                         \n",
      "Covariance Type:            nonrobust                                         \n",
      "=============================================================================================\n",
      "                                coef    std err          t      P>|t|      [0.025      0.975]\n",
      "---------------------------------------------------------------------------------------------\n",
      "Intercept                     1.1550      0.118      9.773      0.000       0.923       1.387\n",
      "ADL                          -0.0509      0.003    -19.099      0.000      -0.056      -0.046\n",
      "Age                          -0.0015      0.001     -1.755      0.079      -0.003       0.000\n",
      "AlcoholConsumption           -0.0012      0.001     -0.852      0.394      -0.004       0.002\n",
      "BMI                          -0.0004      0.001     -0.365      0.715      -0.003       0.002\n",
      "BehavioralProblems            0.3136      0.022     14.497      0.000       0.271       0.356\n",
      "CardiovascularDisease         0.0241      0.022      1.078      0.281      -0.020       0.068\n",
      "CholesterolHDL                0.0005      0.000      1.530      0.126      -0.000       0.001\n",
      "CholesterolLDL               -0.0004      0.000     -1.970      0.049      -0.001   -1.59e-06\n",
      "CholesterolTotal          -9.562e-06      0.000     -0.052      0.959      -0.000       0.000\n",
      "CholesterolTriglycerides      0.0001   7.71e-05      1.566      0.118   -3.05e-05       0.000\n",
      "Confusion                    -0.0159      0.019     -0.821      0.411      -0.054       0.022\n",
      "Depression                    0.0098      0.020      0.502      0.616      -0.029       0.048\n",
      "Diabetes                     -0.0005      0.022     -0.023      0.982      -0.044       0.043\n",
      "DiastolicBP                   0.0002      0.000      0.391      0.696      -0.001       0.001\n",
      "DietQuality                   0.0013      0.003      0.480      0.631      -0.004       0.007\n",
      "DifficultyCompletingTasks     0.0030      0.022      0.138      0.890      -0.039       0.045\n",
      "Disorientation               -0.0199      0.022     -0.921      0.357      -0.062       0.022\n",
      "EducationLevel               -0.0121      0.009     -1.387      0.166      -0.029       0.005\n",
      "Ethnicity                    -0.0041      0.008     -0.514      0.607      -0.019       0.011\n",
      "FamilyHistoryAlzheimers      -0.0143      0.018     -0.793      0.428      -0.050       0.021\n",
      "Forgetfulness                 0.0034      0.017      0.198      0.843      -0.030       0.037\n",
      "FunctionalAssessment         -0.0556      0.003    -20.416      0.000      -0.061      -0.050\n",
      "Gender                       -0.0031      0.016     -0.197      0.844      -0.034       0.028\n",
      "HeadInjury                   -0.0330      0.027     -1.218      0.223      -0.086       0.020\n",
      "Hypertension                  0.0311      0.022      1.410      0.159      -0.012       0.074\n",
      "MMSE                         -0.0130      0.001    -14.284      0.000      -0.015      -0.011\n",
      "MemoryComplaints              0.3519      0.019     18.192      0.000       0.314       0.390\n",
      "PersonalityChanges           -0.0006      0.022     -0.025      0.980      -0.044       0.042\n",
      "PhysicalActivity             -0.0002      0.003     -0.065      0.948      -0.006       0.005\n",
      "SleepQuality                 -0.0078      0.004     -1.754      0.080      -0.017       0.001\n",
      "Smoking                      -0.0275      0.017     -1.586      0.113      -0.062       0.007\n",
      "SystolicBP                -4.985e-05      0.000     -0.165      0.869      -0.001       0.001\n",
      "==============================================================================\n",
      "Omnibus:                       45.068   Durbin-Watson:                   1.870\n",
      "Prob(Omnibus):                  0.000   Jarque-Bera (JB):               43.985\n",
      "Skew:                           0.318   Prob(JB):                     2.81e-10\n",
      "Kurtosis:                       2.707   Cond. No.                     6.05e+03\n",
      "==============================================================================\n",
      "\n",
      "Notes:\n",
      "[1] Standard Errors assume that the covariance matrix of the errors is correctly specified.\n",
      "[2] The condition number is large, 6.05e+03. This might indicate that there are\n",
      "strong multicollinearity or other numerical problems.\n"
     ]
    }
   ],
   "source": [
    "# Create the formula for the OLS model\n",
    "formula = 'Diagnosis ~ ' + ' + '.join(df.columns.difference(['Diagnosis']))\n",
    "\n",
    "# Fit the OLS model\n",
    "model = smf.ols(formula, data=df).fit()\n",
    "print(model.summary())"
   ]
  },
  {
   "cell_type": "code",
   "execution_count": 148,
   "metadata": {},
   "outputs": [],
   "source": [
    "columns_to_drop = ['CholesterolTotal','CardiovascularDisease', 'CholesterolHDL', 'CholesterolTriglycerides', 'BMI' , 'AlcoholConsumption' ,\"Confusion\",\n",
    "    \"Depression\",\n",
    "    \"Diabetes\",\n",
    "    \"DiastolicBP\",\n",
    "    \"DietQuality\",\n",
    "    \"DifficultyCompletingTasks\",\n",
    "    'EducationLevel',\n",
    "    'Ethnicity',\n",
    "    'FunctionalAssessment',\n",
    "    'Disorientation', 'Forgetfulness'\n",
    "    ,'FamilyHistoryAlzheimers'\n",
    "    , 'Gender'\n",
    "    ,'HeadInjury'\n",
    "    , 'PhysicalActivity'\n",
    "    ,'PersonalityChanges'\n",
    "    , 'SystolicBP','Smoking'\n",
    "    , 'Age', 'CholesterolLDL'\n",
    "    , 'Hypertension'\n",
    "    \n",
    "    ]\n",
    "\n",
    "# Check if columns exist in the dataframe before dropping\n",
    "columns_to_drop = [col for col in columns_to_drop if col in df.columns]\n",
    "\n",
    "df = df.drop(columns=columns_to_drop)"
   ]
  },
  {
   "cell_type": "code",
   "execution_count": 149,
   "metadata": {},
   "outputs": [
    {
     "name": "stdout",
     "output_type": "stream",
     "text": [
      "                            OLS Regression Results                            \n",
      "==============================================================================\n",
      "Dep. Variable:              Diagnosis   R-squared:                       0.317\n",
      "Model:                            OLS   Adj. R-squared:                  0.315\n",
      "Method:                 Least Squares   F-statistic:                     198.7\n",
      "Date:                Wed, 26 Feb 2025   Prob (F-statistic):          2.74e-174\n",
      "Time:                        10:45:47   Log-Likelihood:                -1054.2\n",
      "No. Observations:                2149   AIC:                             2120.\n",
      "Df Residuals:                    2143   BIC:                             2155.\n",
      "Df Model:                           5                                         \n",
      "Covariance Type:            nonrobust                                         \n",
      "======================================================================================\n",
      "                         coef    std err          t      P>|t|      [0.025      0.975]\n",
      "--------------------------------------------------------------------------------------\n",
      "Intercept              0.7708      0.041     18.842      0.000       0.691       0.851\n",
      "ADL                   -0.0536      0.003    -18.477      0.000      -0.059      -0.048\n",
      "BehavioralProblems     0.3248      0.024     13.813      0.000       0.279       0.371\n",
      "MMSE                  -0.0136      0.001    -13.664      0.000      -0.015      -0.012\n",
      "MemoryComplaints       0.3510      0.021     16.672      0.000       0.310       0.392\n",
      "SleepQuality          -0.0105      0.005     -2.170      0.030      -0.020      -0.001\n",
      "==============================================================================\n",
      "Omnibus:                      136.196   Durbin-Watson:                   1.879\n",
      "Prob(Omnibus):                  0.000   Jarque-Bera (JB):               89.966\n",
      "Skew:                           0.382   Prob(JB):                     2.91e-20\n",
      "Kurtosis:                       2.351   Cond. No.                         90.9\n",
      "==============================================================================\n",
      "\n",
      "Notes:\n",
      "[1] Standard Errors assume that the covariance matrix of the errors is correctly specified.\n"
     ]
    }
   ],
   "source": [
    "formula = 'Diagnosis ~ ' + ' + '.join(df.columns.difference(['Diagnosis']))\n",
    "\n",
    "# Fit the OLS model\n",
    "model = smf.ols(formula, data=df).fit()\n",
    "print(model.summary())"
   ]
  },
  {
   "cell_type": "code",
   "execution_count": 150,
   "metadata": {},
   "outputs": [
    {
     "data": {
      "text/plain": [
       "Index(['SleepQuality', 'MMSE', 'MemoryComplaints', 'BehavioralProblems', 'ADL',\n",
       "       'Diagnosis'],\n",
       "      dtype='object')"
      ]
     },
     "execution_count": 150,
     "metadata": {},
     "output_type": "execute_result"
    }
   ],
   "source": [
    "df.keys()"
   ]
  },
  {
   "cell_type": "code",
   "execution_count": 151,
   "metadata": {},
   "outputs": [
    {
     "name": "stdout",
     "output_type": "stream",
     "text": [
      "Optimization terminated successfully.\n",
      "         Current function value: 0.465823\n",
      "         Iterations 6\n"
     ]
    }
   ],
   "source": [
    "model = smf.logit('Diagnosis ~ SleepQuality + MMSE + MemoryComplaints + BehavioralProblems + ADL', data=df).fit()\n"
   ]
  },
  {
   "cell_type": "code",
   "execution_count": 152,
   "metadata": {},
   "outputs": [
    {
     "data": {
      "text/html": [
       "<table class=\"simpletable\">\n",
       "<tr>\n",
       "           <td></td>             <th>coef</th>     <th>std err</th>      <th>z</th>      <th>P>|z|</th>  <th>[0.025</th>    <th>0.975]</th>  \n",
       "</tr>\n",
       "<tr>\n",
       "  <th>Intercept</th>          <td>    1.8602</td> <td>    0.264</td> <td>    7.051</td> <td> 0.000</td> <td>    1.343</td> <td>    2.377</td>\n",
       "</tr>\n",
       "<tr>\n",
       "  <th>SleepQuality</th>       <td>   -0.0643</td> <td>    0.031</td> <td>   -2.053</td> <td> 0.040</td> <td>   -0.126</td> <td>   -0.003</td>\n",
       "</tr>\n",
       "<tr>\n",
       "  <th>MMSE</th>               <td>   -0.0883</td> <td>    0.007</td> <td>  -12.647</td> <td> 0.000</td> <td>   -0.102</td> <td>   -0.075</td>\n",
       "</tr>\n",
       "<tr>\n",
       "  <th>MemoryComplaints</th>   <td>    2.0374</td> <td>    0.139</td> <td>   14.628</td> <td> 0.000</td> <td>    1.764</td> <td>    2.310</td>\n",
       "</tr>\n",
       "<tr>\n",
       "  <th>BehavioralProblems</th> <td>    1.9569</td> <td>    0.154</td> <td>   12.714</td> <td> 0.000</td> <td>    1.655</td> <td>    2.259</td>\n",
       "</tr>\n",
       "<tr>\n",
       "  <th>ADL</th>                <td>   -0.3414</td> <td>    0.021</td> <td>  -16.060</td> <td> 0.000</td> <td>   -0.383</td> <td>   -0.300</td>\n",
       "</tr>\n",
       "</table>"
      ],
      "text/latex": [
       "\\begin{center}\n",
       "\\begin{tabular}{lcccccc}\n",
       "\\toprule\n",
       "                            & \\textbf{coef} & \\textbf{std err} & \\textbf{z} & \\textbf{P$> |$z$|$} & \\textbf{[0.025} & \\textbf{0.975]}  \\\\\n",
       "\\midrule\n",
       "\\textbf{Intercept}          &       1.8602  &        0.264     &     7.051  &         0.000        &        1.343    &        2.377     \\\\\n",
       "\\textbf{SleepQuality}       &      -0.0643  &        0.031     &    -2.053  &         0.040        &       -0.126    &       -0.003     \\\\\n",
       "\\textbf{MMSE}               &      -0.0883  &        0.007     &   -12.647  &         0.000        &       -0.102    &       -0.075     \\\\\n",
       "\\textbf{MemoryComplaints}   &       2.0374  &        0.139     &    14.628  &         0.000        &        1.764    &        2.310     \\\\\n",
       "\\textbf{BehavioralProblems} &       1.9569  &        0.154     &    12.714  &         0.000        &        1.655    &        2.259     \\\\\n",
       "\\textbf{ADL}                &      -0.3414  &        0.021     &   -16.060  &         0.000        &       -0.383    &       -0.300     \\\\\n",
       "\\bottomrule\n",
       "\\end{tabular}\n",
       "\\end{center}"
      ],
      "text/plain": [
       "<class 'statsmodels.iolib.table.SimpleTable'>"
      ]
     },
     "execution_count": 152,
     "metadata": {},
     "output_type": "execute_result"
    }
   ],
   "source": [
    "model.summary().tables[1]"
   ]
  },
  {
   "cell_type": "code",
   "execution_count": 154,
   "metadata": {},
   "outputs": [],
   "source": [
    "X = df.drop(target, axis=1)\n",
    "y = df[target]\n",
    "\n",
    "X_train, X_test, y_train, y_test = train_test_split(X, y, test_size=0.3, random_state=42)\n",
    "\n",
    "model = linear_model.LogisticRegression().fit(X_train, y_train)"
   ]
  },
  {
   "cell_type": "code",
   "execution_count": 155,
   "metadata": {},
   "outputs": [],
   "source": [
    "probas = model.predict_proba(X_test)\n",
    "\n",
    "probabilidades = [i[1] for i in probas]\n",
    "predicciones = model.predict(X_test)\n",
    "\n",
    "calibracion = pd.DataFrame({\n",
    "     'target': y_test,\n",
    "     'probabilidades': probabilidades,\n",
    "     'predicciones': predicciones\n",
    "})"
   ]
  },
  {
   "cell_type": "code",
   "execution_count": 156,
   "metadata": {},
   "outputs": [],
   "source": [
    "calibracion['bins'] = pd.qcut(calibracion['probabilidades'], q=10, labels=False) + 1\n",
    "grouped = calibracion.groupby('bins').mean()"
   ]
  },
  {
   "cell_type": "code",
   "execution_count": 157,
   "metadata": {},
   "outputs": [
    {
     "data": {
      "image/png": "[encoded data removed]",
      "text/plain": [
       "<Figure size 640x480 with 1 Axes>"
      ]
     },
     "metadata": {},
     "output_type": "display_data"
    }
   ],
   "source": [
    "plt.plot(grouped.probabilidades, grouped.target, marker=\"o\")\n",
    "plt.plot(grouped.probabilidades, grouped.probabilidades, color='r')\n",
    "plt.xlabel(\"probabilidad\")\n",
    "plt.ylabel(\"Real\")\n",
    "plt.grid()"
   ]
  },
  {
   "cell_type": "code",
   "execution_count": null,
   "metadata": {},
   "outputs": [],
   "source": []
  }
 ],
 "metadata": {
  "kernelspec": {
   "display_name": "Python 3",
   "language": "python",
   "name": "python3"
  },
  "language_info": {
   "codemirror_mode": {
    "name": "ipython",
    "version": 3
   },
   "file_extension": ".py",
   "mimetype": "text/x-python",
   "name": "python",
   "nbconvert_exporter": "python",
   "pygments_lexer": "ipython3",
   "version": "3.12.8"
  }
 },
 "nbformat": 4,
 "nbformat_minor": 2
}
