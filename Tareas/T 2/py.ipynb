{
 "cells": [
  {
   "cell_type": "code",
   "execution_count": 11,
   "metadata": {},
   "outputs": [
    {
     "name": "stdout",
     "output_type": "stream",
     "text": [
      "Collecting alpha_vantage\n",
      "  Downloading alpha_vantage-3.0.0-py3-none-any.whl.metadata (12 kB)\n",
      "Collecting aiohttp (from alpha_vantage)\n",
      "  Downloading aiohttp-3.11.12-cp312-cp312-win_amd64.whl.metadata (8.0 kB)\n",
      "Requirement already satisfied: requests in c:\\users\\ppmel\\appdata\\local\\programs\\python\\python312\\lib\\site-packages (from alpha_vantage) (2.32.3)\n",
      "Collecting aiohappyeyeballs>=2.3.0 (from aiohttp->alpha_vantage)\n",
      "  Downloading aiohappyeyeballs-2.4.6-py3-none-any.whl.metadata (5.9 kB)\n",
      "Collecting aiosignal>=1.1.2 (from aiohttp->alpha_vantage)\n",
      "  Downloading aiosignal-1.3.2-py2.py3-none-any.whl.metadata (3.8 kB)\n",
      "Collecting attrs>=17.3.0 (from aiohttp->alpha_vantage)\n",
      "  Downloading attrs-25.1.0-py3-none-any.whl.metadata (10 kB)\n",
      "Collecting frozenlist>=1.1.1 (from aiohttp->alpha_vantage)\n",
      "  Downloading frozenlist-1.5.0-cp312-cp312-win_amd64.whl.metadata (14 kB)\n",
      "Collecting multidict<7.0,>=4.5 (from aiohttp->alpha_vantage)\n",
      "  Downloading multidict-6.1.0-cp312-cp312-win_amd64.whl.metadata (5.1 kB)\n",
      "Collecting propcache>=0.2.0 (from aiohttp->alpha_vantage)\n",
      "  Downloading propcache-0.2.1-cp312-cp312-win_amd64.whl.metadata (9.5 kB)\n",
      "Collecting yarl<2.0,>=1.17.0 (from aiohttp->alpha_vantage)\n",
      "  Downloading yarl-1.18.3-cp312-cp312-win_amd64.whl.metadata (71 kB)\n",
      "Requirement already satisfied: charset-normalizer<4,>=2 in c:\\users\\ppmel\\appdata\\local\\programs\\python\\python312\\lib\\site-packages (from requests->alpha_vantage) (3.4.1)\n",
      "Requirement already satisfied: idna<4,>=2.5 in c:\\users\\ppmel\\appdata\\local\\programs\\python\\python312\\lib\\site-packages (from requests->alpha_vantage) (3.10)\n",
      "Requirement already satisfied: urllib3<3,>=1.21.1 in c:\\users\\ppmel\\appdata\\local\\programs\\python\\python312\\lib\\site-packages (from requests->alpha_vantage) (2.3.0)\n",
      "Requirement already satisfied: certifi>=2017.4.17 in c:\\users\\ppmel\\appdata\\local\\programs\\python\\python312\\lib\\site-packages (from requests->alpha_vantage) (2025.1.31)\n",
      "Downloading alpha_vantage-3.0.0-py3-none-any.whl (35 kB)\n",
      "Downloading aiohttp-3.11.12-cp312-cp312-win_amd64.whl (437 kB)\n",
      "Downloading aiohappyeyeballs-2.4.6-py3-none-any.whl (14 kB)\n",
      "Downloading aiosignal-1.3.2-py2.py3-none-any.whl (7.6 kB)\n",
      "Downloading attrs-25.1.0-py3-none-any.whl (63 kB)\n",
      "Downloading frozenlist-1.5.0-cp312-cp312-win_amd64.whl (51 kB)\n",
      "Downloading multidict-6.1.0-cp312-cp312-win_amd64.whl (28 kB)\n",
      "Downloading propcache-0.2.1-cp312-cp312-win_amd64.whl (44 kB)\n",
      "Downloading yarl-1.18.3-cp312-cp312-win_amd64.whl (90 kB)\n",
      "Installing collected packages: propcache, multidict, frozenlist, attrs, aiohappyeyeballs, yarl, aiosignal, aiohttp, alpha_vantage\n",
      "Successfully installed aiohappyeyeballs-2.4.6 aiohttp-3.11.12 aiosignal-1.3.2 alpha_vantage-3.0.0 attrs-25.1.0 frozenlist-1.5.0 multidict-6.1.0 propcache-0.2.1 yarl-1.18.3\n"
     ]
    },
    {
     "name": "stderr",
     "output_type": "stream",
     "text": [
      "\n",
      "[notice] A new release of pip is available: 24.3.1 -> 25.0.1\n",
      "[notice] To update, run: python.exe -m pip install --upgrade pip\n"
     ]
    }
   ],
   "source": [
    "!pip install alpha_vantage"
   ]
  },
  {
   "cell_type": "code",
   "execution_count": 20,
   "metadata": {},
   "outputs": [
    {
     "name": "stdout",
     "output_type": "stream",
     "text": [
      "            1. open  2. high   3. low  4. close   5. volume\n",
      "date                                                       \n",
      "2024-08-19   554.73   559.61  553.860    559.61  39121793.0\n",
      "2024-08-20   559.15   560.84  557.325    558.70  33732264.0\n"
     ]
    }
   ],
   "source": [
    "from alpha_vantage.timeseries import TimeSeries\n",
    "import pandas as pd\n",
    "\n",
    "# Tu clave de API\n",
    "api_key = 'NKF25J6K17A94A0L'  # Reemplaza con tu clave\n",
    "\n",
    "# Crear una instancia de TimeSeries\n",
    "ts = TimeSeries(key=api_key, output_format='pandas')\n",
    "\n",
    "# Descargar los datos históricos (con 'outputsize' puedes controlar si es completo o compacto)\n",
    "symbol = 'SPY'  # Ticker que te interesa\n",
    "data, meta_data = ts.get_daily(symbol=symbol, outputsize='full')  # Usa 'full' para obtener todos los datos\n",
    "\n",
    "# Asegurarse de que el índice sea de tipo datetime\n",
    "data.index = pd.to_datetime(data.index)\n",
    "\n",
    "# Ordenar los datos por fecha\n",
    "data.sort_index(inplace=True)\n",
    "\n",
    "# Establecer las fechas para el filtrado\n",
    "start_date = '2024-08-19'\n",
    "end_date = '2024-08-20'\n",
    "\n",
    "# Filtrar los datos\n",
    "data_filtered = data.loc[start_date:end_date]\n",
    "\n",
    "# Imprimir los datos filtrados\n",
    "print(data_filtered)\n"
   ]
  },
  {
   "cell_type": "code",
   "execution_count": null,
   "metadata": {},
   "outputs": [],
   "source": []
  }
 ],
 "metadata": {
  "kernelspec": {
   "display_name": "Python 3",
   "language": "python",
   "name": "python3"
  },
  "language_info": {
   "codemirror_mode": {
    "name": "ipython",
    "version": 3
   },
   "file_extension": ".py",
   "mimetype": "text/x-python",
   "name": "python",
   "nbconvert_exporter": "python",
   "pygments_lexer": "ipython3",
   "version": "3.12.8"
  }
 },
 "nbformat": 4,
 "nbformat_minor": 2
}
