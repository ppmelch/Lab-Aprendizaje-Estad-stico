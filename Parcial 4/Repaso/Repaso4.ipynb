{
 "cells": [
  {
   "cell_type": "markdown",
   "id": "6e380e14",
   "metadata": {},
   "source": [
    "# Repaso $ 4to $ Parcial \n",
    "### Laboratorio de Aprendizaje Estadístico\n",
    "José Armando Melchor Soto\n",
    "\n",
    "---\n"
   ]
  },
  {
   "cell_type": "markdown",
   "id": "dbf97611",
   "metadata": {},
   "source": [
    "## Temario\n",
    "\n",
    "1. PCA \n",
    "    - Regresión \n",
    "    - Clasificación\n",
    "    - Interpretación Componentes principales\n",
    "\n",
    "2. KMeans\n",
    "    - Clusters\n",
    "    - Método del codo\n",
    "\n",
    "3. Shaps\n",
    "    - Interpretación de modelo\n",
    "    - Importancia de Variables\n",
    "    \n",
    "4. Efecto Causal \n",
    "    - S learner\n",
    "    - X learner\n",
    "    - T leraner\n",
    "\n",
    "--- "
   ]
  },
  {
   "cell_type": "markdown",
   "id": "9abaf759",
   "metadata": {},
   "source": [
    "## PCA"
   ]
  },
  {
   "cell_type": "markdown",
   "id": "e0ca3544",
   "metadata": {},
   "source": [
    "- ¿Qué es?"
   ]
  },
  {
   "cell_type": "markdown",
   "id": "4ff06551",
   "metadata": {},
   "source": [
    "El Análisis de Componentes Principales (PCA, por sus siglas en inglés Principal Component Analysis) es una técnica estadística clásica cuyo objetivo es reducir la dimensionalidad de un conjunto de datos, preservando la mayor cantidad posible de la varianza original. \n"
   ]
  },
  {
   "cell_type": "markdown",
   "id": "10af0fa6",
   "metadata": {},
   "source": [
    "- ¿Cómo se calcula?\n"
   ]
  },
  {
   "cell_type": "markdown",
   "id": "9f95cac0",
   "metadata": {},
   "source": [
    "\n",
    "Su objetivo principal es reducir la dimensionalidad , pero necesita la proyección de un vector $x_i$ sobre el componente principal $u_1$ , que se termina expresando como:\n",
    "$$\n",
    "\\text{Proy}_{u_1}(x_i) = u_1^T x_i\n",
    "$$\n",
    "\n",
    "Donde su principal objetivo es explicar la varianza como:\n",
    "\n",
    "\n",
    "$$ \\text{Varianza} = \\frac{1}{N} \\sum_{n=1}^N \\left( u_1^T x_n - u_1^T \\bar{x} \\right)^2 $$\n",
    "\n",
    "\n",
    "Que se termina agrupando los terminos , quedando como:\n",
    "$$u_1^T S u_1$$\n",
    "\n",
    "donde:\n",
    "\n",
    "- $S$ es la matriz de covarianza de los datos.\n",
    "- $u_1$ indica la dirección del primer componente principal, es decir, la dirección donde los datos se extienden más.\n",
    "\n",
    "Se busca encontrar el vector $u_1$ que maximice la varianza de las proyecciones.\n",
    "\n",
    "$$\n",
    "\\max_{u_1} u_1^T S u_1\n",
    "$$\n",
    "\n",
    "sujeto a la restricción:\n",
    "\n",
    "$$\n",
    "\\|u_1\\| = 1\n",
    "$$\n",
    "\n",
    "Con esto tratamos de máximizar la función para el vector $x_1$\n",
    "\n",
    "$$\n",
    "\\max_{u_1} u_1^T S u_1\n",
    "$$\n",
    "\n",
    "Lo que nos lleva a plantearnos hacer esta resolución con los multiplicadores de Lagrange\n",
    "Quedando la función Lagrangiana como :\n",
    "$$\n",
    "\\mathcal{L}(u_1, \\lambda) = u_1^T S u_1 - \\lambda (u_1^T u_1 - 1)\n",
    "$$\n",
    "donde \n",
    "- $\\lambda$ es el multiplicador de Lagrange.\n",
    "\n",
    "Lo que nos lleva a derivar respecto a $u_1$ e igualar a cero:\n",
    "\n",
    "$$\n",
    "\\frac{\\partial \\mathcal{L}}{\\partial u_1} = 2 S u_1 - 2 \\lambda u_1 = 0\n",
    "$$\n",
    "\n",
    "lo que se puede reorganizar como:\n",
    "\n",
    "$$\n",
    "S u_1 = \\lambda u_1\n",
    "$$"
   ]
  },
  {
   "cell_type": "markdown",
   "id": "11f21e68",
   "metadata": {},
   "source": [
    "- ¿Cómo se interpreta?\n",
    "\n",
    "    Esto es precisamente la **definición de un problema de autovalores (eigenvalores)**:\n",
    "\n",
    "    - $u_1$ es un **vector propio** (*eigenvector*) de la matriz de covarianza $S$.\n",
    "    - $\\lambda$ es el **valor propio** (*eigenvalue*) asociado.\n",
    "\n",
    "    - El **primer componente principal** $u_1$ es el **eigenvector correspondiente al eigenvalor más grande** de $S$.\n",
    "\n",
    "    - La segunda componente principal será aquella que resuelva con el segundo eigenvalor más grande y así sucesivamente"
   ]
  },
  {
   "cell_type": "markdown",
   "id": "369fa646",
   "metadata": {},
   "source": [
    "- ¿Cómo se interpreta la gráfica?\n",
    "\n",
    "    - El diagrama muestra los datos originales dispersos en dos dimensiones.\n",
    "    - $u_1$ indica la **dirección del primer componente principal**, es decir, la dirección donde los datos **se extienden más**.\n",
    "    - La idea es **proyectar** los datos sobre $u_1$ para **capturar la máxima varianza** en una sola dimensión.\n",
    "\n"
   ]
  },
  {
   "cell_type": "markdown",
   "id": "4376a84f",
   "metadata": {},
   "source": [
    "---"
   ]
  },
  {
   "cell_type": "markdown",
   "id": "d58bbbd0",
   "metadata": {},
   "source": [
    "## KMeans"
   ]
  },
  {
   "cell_type": "markdown",
   "id": "06527821",
   "metadata": {},
   "source": [
    "- ¿Qué son?\n",
    "\n",
    "Es un algoritmo de `Aprendizaje no supervisado` que se utiliza para resolver problemas de clustering. Su objetivo es dividir un conjunto de datos en clusters de manera que los elementos dentro de cada grupo sean lo más parecidos posible entre sí y diferentes de los elementos en otros grupos.\n"
   ]
  },
  {
   "cell_type": "markdown",
   "id": "09a126e8",
   "metadata": {},
   "source": [
    "---"
   ]
  },
  {
   "cell_type": "markdown",
   "id": "28ae6aaf",
   "metadata": {},
   "source": [
    "## Shaps"
   ]
  },
  {
   "cell_type": "markdown",
   "id": "87fade33",
   "metadata": {},
   "source": [
    "- ¿Qué son?"
   ]
  },
  {
   "cell_type": "markdown",
   "id": "89d9e332",
   "metadata": {},
   "source": [
    "---"
   ]
  },
  {
   "cell_type": "markdown",
   "id": "f0922d43",
   "metadata": {},
   "source": [
    "## Efecto Causal"
   ]
  },
  {
   "cell_type": "markdown",
   "id": "9376811c",
   "metadata": {},
   "source": [
    "#### S learner"
   ]
  },
  {
   "cell_type": "markdown",
   "id": "6f8cb338",
   "metadata": {},
   "source": [
    "- ¿Qué es?"
   ]
  },
  {
   "cell_type": "markdown",
   "id": "3c93689b",
   "metadata": {},
   "source": []
  },
  {
   "cell_type": "markdown",
   "id": "b8030864",
   "metadata": {},
   "source": [
    "#### X learner"
   ]
  },
  {
   "cell_type": "markdown",
   "id": "2a08f40d",
   "metadata": {},
   "source": [
    "- ¿Qué es?"
   ]
  },
  {
   "cell_type": "markdown",
   "id": "473f9205",
   "metadata": {},
   "source": []
  },
  {
   "cell_type": "markdown",
   "id": "a71684d0",
   "metadata": {},
   "source": [
    "#### T learner"
   ]
  },
  {
   "cell_type": "markdown",
   "id": "f2e66128",
   "metadata": {},
   "source": [
    "- ¿Qué es?"
   ]
  },
  {
   "cell_type": "markdown",
   "id": "a56f1d24",
   "metadata": {},
   "source": []
  },
  {
   "cell_type": "markdown",
   "id": "c842e945",
   "metadata": {},
   "source": [
    "---"
   ]
  },
  {
   "cell_type": "markdown",
   "id": "36e25cb4",
   "metadata": {},
   "source": [
    "## EXTRA"
   ]
  },
  {
   "cell_type": "markdown",
   "id": "a6e10df3",
   "metadata": {},
   "source": [
    "-"
   ]
  },
  {
   "cell_type": "markdown",
   "id": "1ced90f9",
   "metadata": {},
   "source": [
    "---"
   ]
  }
 ],
 "metadata": {
  "language_info": {
   "name": "python"
  }
 },
 "nbformat": 4,
 "nbformat_minor": 5
}
