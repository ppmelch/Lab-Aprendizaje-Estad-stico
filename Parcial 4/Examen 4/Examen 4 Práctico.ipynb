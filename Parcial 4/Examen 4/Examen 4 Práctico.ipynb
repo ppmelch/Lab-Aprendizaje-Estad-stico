{
 "cells": [
  {
   "cell_type": "markdown",
   "id": "003c6008",
   "metadata": {},
   "source": [
    "# Cuarto Examen Parcial (Práctico)\n",
    "### Laboratorio de Aprendizaje Estadístico\n",
    "\n",
    "José Armando Melchor Soto  | 745697\n",
    "\n",
    "--- \n",
    "\n",
    "\n"
   ]
  },
  {
   "cell_type": "markdown",
   "id": "6129041b",
   "metadata": {},
   "source": [
    "### **Librerías**"
   ]
  },
  {
   "cell_type": "code",
   "execution_count": null,
   "id": "7e90fae8",
   "metadata": {},
   "outputs": [],
   "source": [
    "import pandas as pd\n",
    "from sklearn.neighbors import KNeighborsRegressor\n",
    "from sklearn.model_selection import train_test_split\n",
    "from sklearn.metrics import mean_squared_error, r2_score\n",
    "from sklearn.preprocessing import StandardScaler\n",
    "from sklearn.preprocessing import PolynomialFeatures\n",
    "import numpy as np\n",
    "from sklearn.metrics import r2_score\n",
    "import matplotlib.pyplot as plt\n",
    "from sklearn import linear_model\n",
    "import statsmodels.formula.api as smf\n",
    "import warnings\n",
    "from scipy import stats\n",
    "from sklearn.model_selection import train_test_split, GridSearchCV,RandomizedSearchCV\n",
    "from sklearn.neural_network import MLPClassifier, MLPRegressor\n",
    "from sklearn.metrics import roc_auc_score\n",
    "from sklearn.pipeline import Pipeline\n",
    "from sklearn.preprocessing import StandardScaler\n",
    "from sklearn.model_selection import train_test_split\n",
    "from sklearn.tree import DecisionTreeRegressor,DecisionTreeClassifier, plot_tree\n",
    "from sklearn.ensemble import RandomForestRegressor, RandomForestClassifier\n",
    "import seaborn as sns\n",
    "from sklearn.neighbors import KNeighborsClassifier\n",
    "from sklearn.metrics import roc_curve\n",
    "import xgboost as xgb \n",
    "from xgboost import  XGBRegressor, XGBClassifier, plot_importance as xgb_plot_importance, callback as xgb_callback\n",
    "from catboost import CatBoostRegressor, CatBoostClassifier\n",
    "import lightgbm as lgb\n",
    "from lightgbm import LGBMRegressor,LGBMClassifier, plot_importance,early_stopping, log_evaluation\n",
    "import shap \n",
    "import shap.plots\n",
    "from sklearn.cluster import KMeans\n",
    "from sklearn.decomposition import PCA\n",
    "from IPython.display import display\n",
    "\n",
    "\n",
    "\n",
    "\n",
    "warnings.simplefilter(action='ignore', category=FutureWarning)\n",
    "\n",
    "colors = [\"cornflowerblue\", \"indianred\", \"darkseagreen\", \"plum\", \"dimgray\"]"
   ]
  },
  {
   "cell_type": "markdown",
   "id": "4b541f9e",
   "metadata": {},
   "source": [
    "---"
   ]
  },
  {
   "cell_type": "markdown",
   "id": "bb0a4f33",
   "metadata": {},
   "source": [
    "### **Dataset** \n",
    "Diabetes"
   ]
  },
  {
   "cell_type": "code",
   "execution_count": null,
   "id": "20226465",
   "metadata": {},
   "outputs": [],
   "source": [
    "df = pd.read_csv('diabetes.csv')"
   ]
  },
  {
   "cell_type": "markdown",
   "id": "0cf3c49d",
   "metadata": {},
   "source": [
    "### **Visualización del Dataset**"
   ]
  },
  {
   "cell_type": "code",
   "execution_count": null,
   "id": "ab0b1fdf",
   "metadata": {},
   "outputs": [],
   "source": [
    "df.head()"
   ]
  },
  {
   "cell_type": "code",
   "execution_count": null,
   "id": "6a805a38",
   "metadata": {},
   "outputs": [],
   "source": [
    "df.info()"
   ]
  },
  {
   "cell_type": "markdown",
   "id": "b8867bc7",
   "metadata": {},
   "source": [
    "### **Explicación de las variables**"
   ]
  },
  {
   "cell_type": "markdown",
   "id": "939db790",
   "metadata": {},
   "source": []
  },
  {
   "cell_type": "markdown",
   "id": "4fdf3548",
   "metadata": {},
   "source": [
    "---"
   ]
  },
  {
   "cell_type": "markdown",
   "id": "93198b4e",
   "metadata": {},
   "source": [
    "### **Dummies**"
   ]
  },
  {
   "cell_type": "code",
   "execution_count": null,
   "id": "1c69d755",
   "metadata": {},
   "outputs": [],
   "source": [
    "df = pd.get_dummies(df, drop_first=True)"
   ]
  },
  {
   "cell_type": "code",
   "execution_count": null,
   "id": "4dcc42ca",
   "metadata": {},
   "outputs": [],
   "source": [
    "df.head()"
   ]
  },
  {
   "cell_type": "markdown",
   "id": "5f34a649",
   "metadata": {},
   "source": [
    "---"
   ]
  },
  {
   "cell_type": "markdown",
   "id": "83f1ba4c",
   "metadata": {},
   "source": [
    "### **NaN's**"
   ]
  },
  {
   "cell_type": "code",
   "execution_count": null,
   "id": "d32e634f",
   "metadata": {},
   "outputs": [],
   "source": [
    "pd.DataFrame(df.isnull().sum()).T"
   ]
  },
  {
   "cell_type": "markdown",
   "id": "0bf4798e",
   "metadata": {},
   "source": [
    "##### Si es que hay, usamos la mediana para rellenar"
   ]
  },
  {
   "cell_type": "code",
   "execution_count": null,
   "id": "8fc4ad88",
   "metadata": {},
   "outputs": [],
   "source": [
    "'''\n",
    "df['--'] = df['--'].fillna(df['--'].median())\n",
    "'''"
   ]
  },
  {
   "cell_type": "markdown",
   "id": "fd775ecd",
   "metadata": {},
   "source": [
    "##### Comprobamos que ya no haya NaN's"
   ]
  },
  {
   "cell_type": "code",
   "execution_count": null,
   "id": "4837d2f0",
   "metadata": {},
   "outputs": [],
   "source": [
    "pd.DataFrame(df.isnull().sum()).T"
   ]
  },
  {
   "cell_type": "markdown",
   "id": "90d752f8",
   "metadata": {},
   "source": [
    "---"
   ]
  },
  {
   "cell_type": "markdown",
   "id": "acf09475",
   "metadata": {},
   "source": [
    "### **Funciones**"
   ]
  },
  {
   "cell_type": "markdown",
   "id": "9867406d",
   "metadata": {},
   "source": [
    "##### Función Calibración "
   ]
  },
  {
   "cell_type": "code",
   "execution_count": null,
   "id": "8612dab1",
   "metadata": {},
   "outputs": [],
   "source": [
    "def calibracion(predicciones, y, bins):\n",
    "    df_calibracion = pd.DataFrame({\n",
    "        'predicciones': predicciones,\n",
    "        'y': y\n",
    "    })\n",
    "    \n",
    "    df_calibracion['bins'] = pd.qcut(df_calibracion['predicciones'], q=bins, labels=False) + 1\n",
    "    gropuped = df_calibracion.groupby('bins').mean()\n",
    "    \n",
    "    plt.plot(gropuped.predicciones, gropuped.y, label=\"Modelo\", marker=\"o\")\n",
    "    plt.plot(gropuped.predicciones, gropuped.predicciones, label=\"Real\", marker=\"o\")\n",
    "    plt.grid()\n",
    "    plt.legend()\n",
    "    plt.xlabel(\"Prediccion\")\n",
    "    plt.ylabel(\"Real\")"
   ]
  },
  {
   "cell_type": "markdown",
   "id": "1f5540b8",
   "metadata": {},
   "source": [
    "##### Función KMeans"
   ]
  },
  {
   "cell_type": "code",
   "execution_count": null,
   "id": "7c86181f",
   "metadata": {},
   "outputs": [],
   "source": [
    "def kmeans(df, columnas, max_clusters=11):\n",
    "    X = df[columnas].values\n",
    "\n",
    "    inertias = []\n",
    "    \n",
    "    for k in range(1, max_clusters + 1):\n",
    "        pipeline = Pipeline([\n",
    "            ('scaler', StandardScaler()),\n",
    "            ('kmeans', KMeans(n_clusters=k, random_state=42))\n",
    "        ])\n",
    "        pipeline.fit(X)\n",
    "        inertia = pipeline.named_steps['kmeans'].inertia_\n",
    "        inertias.append(inertia)\n",
    "\n",
    "    plt.figure(figsize=(8, 6))\n",
    "    plt.plot(range(1, max_clusters + 1), inertias, marker='o')\n",
    "    plt.xlabel('Número de Clusters')\n",
    "    plt.ylabel('Inercia')\n",
    "    plt.title('Método del Codo')\n",
    "    plt.grid(True)\n",
    "    plt.show()\n"
   ]
  },
  {
   "cell_type": "markdown",
   "id": "40186adb",
   "metadata": {},
   "source": [
    "##### Función Clusters"
   ]
  },
  {
   "cell_type": "code",
   "execution_count": null,
   "id": "3861a474",
   "metadata": {},
   "outputs": [],
   "source": [
    "def clusters(df, clusters, comp_x='PC1', comp_y='PC2'):\n",
    "    df = df.copy().dropna()\n",
    "\n",
    "    pipeline = Pipeline([\n",
    "        ('scaler', StandardScaler()),\n",
    "        ('kmeans', KMeans(n_clusters=clusters, random_state=42))\n",
    "    ])\n",
    "\n",
    "    pipeline.fit(df)\n",
    "    df['cluster'] = pipeline.predict(df)\n",
    "\n",
    "    pca = PCA(n_components=max(6, clusters))\n",
    "    X_pca = pca.fit_transform(df)\n",
    "\n",
    "    x_components = pd.DataFrame(X_pca, columns=[f'PC{i+1}' for i in range(X_pca.shape[1])])\n",
    "    x_components['Cluster'] = df['cluster'] + 1\n",
    "\n",
    "    plt.figure(figsize=(8, 6))\n",
    "    plt.scatter(x_components[comp_x], x_components[comp_y], c=x_components['Cluster'])\n",
    "    plt.xlabel(comp_x)\n",
    "    plt.ylabel(comp_y)\n",
    "    plt.title(f'Con {clusters} Clusters visualizados en {comp_x} y {comp_y}')\n",
    "    plt.show()\n",
    "\n"
   ]
  },
  {
   "cell_type": "markdown",
   "id": "3ed3bf92",
   "metadata": {},
   "source": [
    "##### Función PCA"
   ]
  },
  {
   "cell_type": "code",
   "execution_count": null,
   "id": "fd4abc7e",
   "metadata": {},
   "outputs": [],
   "source": [
    "def pca(X, n_var):\n",
    "    pipeline = Pipeline([\n",
    "        ('scaler', StandardScaler()),\n",
    "        ('pca', PCA())\n",
    "    ])\n",
    "\n",
    "    pipeline.fit(X)\n",
    "    objeto_pca = pipeline.named_steps['pca']\n",
    "\n",
    "    X_pca = pipeline.transform(X)\n",
    "    x_components = pd.DataFrame(X_pca, columns=[f'PC{i+1}' for i in range(X_pca.shape[1])])\n",
    "\n",
    "    plt.plot(objeto_pca.explained_variance_ratio_, marker='o')\n",
    "    plt.grid(True)\n",
    "    plt.show()\n",
    "\n",
    "    return x_components.head()"
   ]
  },
  {
   "cell_type": "markdown",
   "id": "d7b742e1",
   "metadata": {},
   "source": [
    "##### Función PCA Varianza"
   ]
  },
  {
   "cell_type": "code",
   "execution_count": null,
   "id": "d5f01fa4",
   "metadata": {},
   "outputs": [],
   "source": [
    "def var_pca(X, n_var):\n",
    "    pipeline = Pipeline([\n",
    "        ('scaler', StandardScaler()),\n",
    "        ('pca', PCA(n_components=n_var)) \n",
    "    ])\n",
    "\n",
    "    pipeline.fit(X)\n",
    "    objeto_pca = pipeline.named_steps['pca']\n",
    "\n",
    "    X_pca = pipeline.transform(X)\n",
    "    x_components = pd.DataFrame(X_pca, columns=[f'PC{i+1}' for i in range(X_pca.shape[1])])\n",
    "\n",
    "    plt.plot(objeto_pca.explained_variance_ratio_, marker='o')\n",
    "    plt.xlabel('Componente Principal')\n",
    "    plt.ylabel('Varianza Explicada')\n",
    "    plt.title('Varianza Explicada por Componente')\n",
    "    plt.grid(True)\n",
    "    plt.show()\n",
    "\n",
    "    varianza = pd.DataFrame({\n",
    "        f'PC{i+1}': objeto_pca.explained_variance_ratio_[i] for i in range(n_var)\n",
    "    }, index=['Varianza']).T\n",
    "\n",
    "    display(varianza)\n",
    "\n",
    "    return x_components.head()\n",
    "\n",
    "\n"
   ]
  },
  {
   "cell_type": "markdown",
   "id": "ea8a0a04",
   "metadata": {},
   "source": [
    "##### Función Gráfica n PCA"
   ]
  },
  {
   "cell_type": "code",
   "execution_count": null,
   "id": "d35e858c",
   "metadata": {},
   "outputs": [],
   "source": [
    "def plot_pca(X, comp_x='PC1', comp_y='PC2'):\n",
    "    pipeline = Pipeline([\n",
    "        ('scaler', StandardScaler()),\n",
    "        ('pca', PCA())\n",
    "    ])\n",
    "\n",
    "    pipeline.fit(X)\n",
    "    objeto_pca = pipeline.named_steps['pca']\n",
    "\n",
    "    X_pca = pipeline.transform(X)\n",
    "    x_components = pd.DataFrame(X_pca, columns=[f'PC{i+1}' for i in range(X_pca.shape[1])])\n",
    "    \n",
    "    if comp_x not in x_components.columns or comp_y not in x_components.columns:\n",
    "        raise ValueError(f\"Componentes inválidas: {comp_x}, {comp_y}. Usa nombres como 'PC1', 'PC2', etc.\")\n",
    "\n",
    "    plt.figure(figsize=(8, 6))\n",
    "    plt.scatter(x_components[comp_x], x_components[comp_y], alpha=1)\n",
    "    plt.xlabel(comp_x)\n",
    "    plt.ylabel(comp_y)\n",
    "    plt.title(f'PCA - Proyección en {comp_x} y {comp_y}')\n",
    "    plt.grid(True)\n",
    "    plt.show()\n"
   ]
  },
  {
   "cell_type": "markdown",
   "id": "e2da00e1",
   "metadata": {},
   "source": [
    "##### Función XGBoost"
   ]
  },
  {
   "cell_type": "code",
   "execution_count": null,
   "id": "1324e255",
   "metadata": {},
   "outputs": [],
   "source": [
    "def xgboost(X_train, y_train, X_test, y_test):\n",
    "    model_xgboost = XGBClassifier(\n",
    "        n_estimators=1000,\n",
    "        max_depth=5,\n",
    "        learning_rate=0.1,\n",
    "        reg_lambda=0.1,\n",
    "        subsample=0.5,\n",
    "        colsample_bytree=0.8,\n",
    "        tree_method='hist',\n",
    "        enable_categorical=True,\n",
    "        use_label_encoder=False,\n",
    "        eval_metric='auc'\n",
    "    )\n",
    "    model_xgboost.fit(X_train, y_train, eval_set=[(X_test, y_test)], verbose=100)\n",
    "    proba_xgboost = model_xgboost.predict_proba(X_test)[:, 1]\n",
    "\n",
    "    auc_score = roc_auc_score(y_test, proba_xgboost)\n",
    "   \n",
    "    fpr, tpr, _ = roc_curve(y_test, proba_xgboost)\n",
    "    plt.figure(figsize=(8,6))\n",
    "    plt.plot(fpr, tpr, label=f'XGBoost (AUC = {auc_score:.3f})')\n",
    "    plt.plot([0, 1], [0, 1], 'r--', label='Clasificador aleatorio')\n",
    "    plt.xlabel('False Positive Rate')\n",
    "    plt.ylabel('True Positive Rate')\n",
    "    plt.title('Curva ROC - XGBoost')\n",
    "    plt.legend()\n",
    "    plt.grid(True)\n",
    "    plt.show()\n",
    "\n",
    "    juntar = pd.DataFrame({\n",
    "        'real': y_test,\n",
    "        'probabilidades': proba_xgboost\n",
    "    })\n",
    "\n",
    "    plt.figure(figsize=(10, 5))\n",
    "    plt.hist(juntar[juntar.real == 1]['probabilidades'], density=True, alpha=0.5, label='1')\n",
    "    plt.hist(juntar[juntar.real == 0]['probabilidades'], density=True, alpha=0.5, label='0')\n",
    "    plt.title('Histograma de probabilidades XGBoost')\n",
    "    plt.xlabel('Probabilidad')\n",
    "    plt.ylabel('Densidad')\n",
    "    plt.legend()\n",
    "    plt.grid(True)\n",
    "    plt.show()\n",
    "\n",
    "\n",
    "    importancia = pd.DataFrame({\n",
    "        'variables': X_train.columns,\n",
    "        'importancia': model_xgboost.feature_importances_\n",
    "    })\n",
    "    importancia.sort_values('importancia', ascending=True, inplace=True)\n",
    "    importancia0 = importancia.tail(5)\n",
    "    importancia0.plot.barh(x='variables', y='importancia', figsize=(8,6))\n",
    "    plt.xlabel('Importancia')\n",
    "    plt.title('Top 5 Feature Importances')\n",
    "    plt.grid(True)\n",
    "    plt.show()\n",
    "    \n",
    "    print(\"AUC XGBoost:\", auc_score)\n",
    "\n",
    "\n"
   ]
  },
  {
   "cell_type": "markdown",
   "id": "baa15345",
   "metadata": {},
   "source": [
    "##### Función XGBoost Shap values"
   ]
  },
  {
   "cell_type": "code",
   "execution_count": null,
   "id": "2e8fde24",
   "metadata": {},
   "outputs": [],
   "source": [
    "def shapXGB(X_train, y_train, X_test, y_test):\n",
    "\n",
    "    model_xgboost = XGBClassifier(\n",
    "        n_estimators=1000,\n",
    "        max_depth=5,\n",
    "        learning_rate=0.1,\n",
    "        reg_lambda=0.1,\n",
    "        subsample=0.5,\n",
    "        colsample_bytree=0.8,\n",
    "        tree_method='hist',\n",
    "        enable_categorical=True,\n",
    "        use_label_encoder=False,\n",
    "        eval_metric='auc'\n",
    "    )\n",
    "    model_xgboost.fit(X_train, y_train, eval_set=[(X_test, y_test)], verbose=100)\n",
    "\n",
    "    proba_xgboost = model_xgboost.predict_proba(X_test)[:, 1]\n",
    "    auc_score = roc_auc_score(y_test, proba_xgboost)\n",
    "    print(f\"AUC XGBoost: {auc_score:.4f}\")\n",
    "\n",
    "    sample_size = min(10000, len(X_test))\n",
    "    X_shap = X_test.sample(sample_size, random_state=42)\n",
    "\n",
    "    explainer = shap.TreeExplainer(model_xgboost)\n",
    "    shap_values = explainer.shap_values(X_shap)\n",
    "\n",
    "    shap.initjs()\n",
    "\n",
    "    shap.waterfall_plot(shap.Explanation(\n",
    "        values=shap_values[0],\n",
    "        base_values=explainer.expected_value,\n",
    "        data=X_shap.iloc[0],\n",
    "        feature_names=X_shap.columns\n",
    "    ))\n",
    "\n",
    "    plt.title('Top 5 Variables más importantes (Barplot)')\n",
    "    shap.summary_plot(shap_values, X_shap, plot_type=\"bar\", max_display=5)\n",
    "\n",
    "    plt.title('Top 10 Variables con mayor impacto (Dotplot)')\n",
    "    shap.summary_plot(shap_values, X_shap, plot_type=\"dot\", max_display=10)\n"
   ]
  },
  {
   "cell_type": "markdown",
   "id": "2230e11d",
   "metadata": {},
   "source": [
    "---"
   ]
  },
  {
   "cell_type": "markdown",
   "id": "ca0b2d51",
   "metadata": {},
   "source": [
    "### **Modelo**"
   ]
  },
  {
   "cell_type": "markdown",
   "id": "b55ea918",
   "metadata": {},
   "source": [
    "Se pide que el modelo tenga: \n",
    "\n",
    "test set: 20%\n",
    "random_state: 42"
   ]
  },
  {
   "cell_type": "code",
   "execution_count": null,
   "id": "2aebbd9c",
   "metadata": {},
   "outputs": [],
   "source": [
    "target= 'diabetes'\n",
    "X = df.drop(target, axis=1)\n",
    "y = df[target]\n",
    "\n",
    "X_train, X_test, y_train, y_test = train_test_split(X, y, test_size=0.2, random_state=42, stratify=y)"
   ]
  },
  {
   "cell_type": "markdown",
   "id": "57ad6695",
   "metadata": {},
   "source": [
    "---"
   ]
  },
  {
   "cell_type": "markdown",
   "id": "050e1f31",
   "metadata": {},
   "source": [
    "#### **Correlación del target con todas las variables**"
   ]
  },
  {
   "cell_type": "code",
   "execution_count": null,
   "id": "624c5e7f",
   "metadata": {},
   "outputs": [],
   "source": [
    "df.corr()['diabetes'].sort_values(ascending=False)"
   ]
  },
  {
   "cell_type": "code",
   "execution_count": null,
   "id": "af28da02",
   "metadata": {},
   "outputs": [],
   "source": [
    "df.drop('gender_Other', axis=1, inplace=True)"
   ]
  },
  {
   "cell_type": "markdown",
   "id": "47ed5184",
   "metadata": {},
   "source": [
    "---"
   ]
  },
  {
   "cell_type": "markdown",
   "id": "a7ad51ad",
   "metadata": {},
   "source": [
    "## **Modelos**"
   ]
  },
  {
   "cell_type": "markdown",
   "id": "acd3366c",
   "metadata": {},
   "source": [
    "## ---"
   ]
  },
  {
   "cell_type": "code",
   "execution_count": null,
   "id": "d52b8fff",
   "metadata": {},
   "outputs": [],
   "source": []
  },
  {
   "cell_type": "markdown",
   "id": "9069516e",
   "metadata": {},
   "source": [
    "---"
   ]
  },
  {
   "cell_type": "markdown",
   "id": "4167af5c",
   "metadata": {},
   "source": [
    "### **Conclusión**"
   ]
  },
  {
   "cell_type": "markdown",
   "id": "449e3f02",
   "metadata": {},
   "source": []
  }
 ],
 "metadata": {
  "kernelspec": {
   "display_name": "Python 3",
   "language": "python",
   "name": "python3"
  },
  "language_info": {
   "codemirror_mode": {
    "name": "ipython",
    "version": 3
   },
   "file_extension": ".py",
   "mimetype": "text/x-python",
   "name": "python",
   "nbconvert_exporter": "python",
   "pygments_lexer": "ipython3",
   "version": "3.12.8"
  }
 },
 "nbformat": 4,
 "nbformat_minor": 5
}
