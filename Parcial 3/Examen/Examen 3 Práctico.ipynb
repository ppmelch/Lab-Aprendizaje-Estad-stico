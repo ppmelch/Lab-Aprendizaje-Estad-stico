{
 "cells": [
  {
   "cell_type": "markdown",
   "metadata": {},
   "source": [
    "# Tercer Examen Parcial (Práctico)\n",
    "### Laboratorio de Aprendizaje Estadístico\n",
    "\n",
    "José Armando Melchor Soto  | 745697\n",
    "\n",
    "--- \n",
    "\n",
    "\n"
   ]
  },
  {
   "cell_type": "markdown",
   "metadata": {},
   "source": [
    "### Librerías: "
   ]
  },
  {
   "cell_type": "code",
   "execution_count": null,
   "metadata": {},
   "outputs": [],
   "source": [
    "import pandas as pd\n",
    "from sklearn.neighbors import KNeighborsRegressor\n",
    "from sklearn.model_selection import train_test_split\n",
    "from sklearn.metrics import mean_squared_error, r2_score\n",
    "from sklearn.preprocessing import StandardScaler\n",
    "from sklearn.preprocessing import PolynomialFeatures\n",
    "import numpy as np\n",
    "from sklearn.metrics import r2_score\n",
    "import matplotlib.pyplot as plt\n",
    "from sklearn import linear_model\n",
    "import statsmodels.formula.api as smf\n",
    "import warnings\n",
    "from scipy import stats\n",
    "from sklearn.model_selection import train_test_split, GridSearchCV,RandomizedSearchCV\n",
    "from sklearn.neural_network import MLPClassifier, MLPRegressor\n",
    "from sklearn.metrics import roc_auc_score\n",
    "from sklearn.pipeline import Pipeline\n",
    "from sklearn.preprocessing import StandardScaler\n",
    "from sklearn.model_selection import train_test_split\n",
    "from sklearn.tree import DecisionTreeRegressor, plot_tree\n",
    "from sklearn.ensemble import RandomForestRegressor\n",
    "from catboost import CatBoostRegressor\n",
    "from lightgbm import LGBMRegressor\n",
    "import lightgbm as lgb\n",
    "from lightgbm import early_stopping, log_evaluation\n",
    "from xgboost import XGBRegressor\n",
    "import seaborn as sns\n",
    "from lightgbm import plot_importance\n",
    "from xgboost import plot_importance as xgb_plot_importance\n",
    "from sklearn.neighbors import KNeighborsClassifier\n",
    "\n",
    "\n",
    "\n",
    "\n",
    "warnings.simplefilter(action='ignore', category=FutureWarning)\n",
    "\n",
    "colors = [\"cornflowerblue\", \"indianred\", \"darkseagreen\", \"plum\", \"dimgray\"]"
   ]
  },
  {
   "cell_type": "markdown",
   "metadata": {},
   "source": [
    "---"
   ]
  },
  {
   "cell_type": "markdown",
   "metadata": {},
   "source": [
    "### Dataset : \n",
    "Diabetes"
   ]
  },
  {
   "cell_type": "code",
   "execution_count": null,
   "metadata": {},
   "outputs": [],
   "source": [
    "df = pd.read_csv('diabetes.csv')"
   ]
  },
  {
   "cell_type": "code",
   "execution_count": null,
   "metadata": {},
   "outputs": [],
   "source": [
    "df.head()"
   ]
  },
  {
   "cell_type": "markdown",
   "metadata": {},
   "source": [
    "#### Dummies"
   ]
  },
  {
   "cell_type": "code",
   "execution_count": null,
   "metadata": {},
   "outputs": [],
   "source": [
    "df = pd.get_dummies(df, drop_first=True)\n",
    "df"
   ]
  },
  {
   "cell_type": "markdown",
   "metadata": {},
   "source": [
    "### Visualización del Dataset"
   ]
  },
  {
   "cell_type": "code",
   "execution_count": null,
   "metadata": {},
   "outputs": [],
   "source": [
    "df.head()"
   ]
  },
  {
   "cell_type": "code",
   "execution_count": null,
   "metadata": {},
   "outputs": [],
   "source": [
    "print(df.columns)\n"
   ]
  },
  {
   "cell_type": "markdown",
   "metadata": {},
   "source": [
    "### Explicación de las variables"
   ]
  },
  {
   "cell_type": "markdown",
   "metadata": {},
   "source": []
  },
  {
   "cell_type": "markdown",
   "metadata": {},
   "source": [
    "---"
   ]
  },
  {
   "cell_type": "markdown",
   "metadata": {},
   "source": [
    "#### Se busca predecir"
   ]
  },
  {
   "cell_type": "code",
   "execution_count": null,
   "metadata": {},
   "outputs": [],
   "source": [
    "target= 'diabetes'\n",
    "X = df.drop(target, axis=1)\n",
    "y = df[target]\n",
    "\n",
    "X_train, X_test, y_train, y_test = train_test_split(X, y, test_size=0.2, random_state=42, stratify=y)"
   ]
  },
  {
   "cell_type": "markdown",
   "metadata": {},
   "source": [
    "#### NaN's"
   ]
  },
  {
   "cell_type": "code",
   "execution_count": null,
   "metadata": {},
   "outputs": [],
   "source": [
    "pd.DataFrame(df.isnull().sum()).T"
   ]
  },
  {
   "cell_type": "markdown",
   "metadata": {},
   "source": [
    "Ninguna Variable tiene NaN's , así que podemos continuar"
   ]
  },
  {
   "cell_type": "markdown",
   "metadata": {},
   "source": [
    "##### Función Calibración "
   ]
  },
  {
   "cell_type": "code",
   "execution_count": null,
   "metadata": {},
   "outputs": [],
   "source": [
    "def calibracion(predicciones, y, bins):\n",
    "    df_calibracion = pd.DataFrame({\n",
    "        'predicciones': predicciones,\n",
    "        'y': y\n",
    "    })\n",
    "    \n",
    "    df_calibracion['bins'] = pd.qcut(df_calibracion['predicciones'], q=bins, labels=False) + 1\n",
    "    gropuped = df_calibracion.groupby('bins').mean()\n",
    "    \n",
    "    plt.plot(gropuped.predicciones, gropuped.y, label=\"Modelo\", marker=\"o\")\n",
    "    plt.plot(gropuped.predicciones, gropuped.predicciones, label=\"Real\", marker=\"o\")\n",
    "    plt.grid()\n",
    "    plt.legend()\n",
    "    plt.xlabel(\"Prediccion\")\n",
    "    plt.ylabel(\"Real\")"
   ]
  },
  {
   "cell_type": "markdown",
   "metadata": {},
   "source": [
    "##### Función Bivariado"
   ]
  },
  {
   "cell_type": "code",
   "execution_count": null,
   "metadata": {},
   "outputs": [],
   "source": [
    "def bivariado(df):\n",
    "    num_features = df.iloc[:, :].columns\n",
    "    df_numerical = df.iloc[:, :].copy()\n",
    "\n",
    "    for feature in num_features:\n",
    "        df_numerical[f'{feature}_bins'] = pd.qcut(df_numerical[feature], q=5, labels=False, duplicates='drop')\n",
    "\n",
    "        if df_numerical[f'{feature}_bins'].isna().sum() > 0:\n",
    "            print(f\"Advertencia: {feature} tiene valores NaN en la segmentación.\")\n",
    "\n",
    "        grouped = df_numerical.groupby(f'{feature}_bins').mean()\n",
    "\n",
    "        fig, axes = plt.subplots(1, 2, figsize=(15, 5)) \n",
    "        \n",
    "        sns.lineplot(x=grouped[feature], y=grouped[target], marker='o', color='#b30000', ax=axes[0])\n",
    "        axes[0].set_title(f'Relación de {feature} con {target}')\n",
    "        axes[0].set_xlabel(feature)\n",
    "        axes[0].set_ylabel(target)\n",
    "        axes[0].grid()\n",
    "\n",
    "        sns.histplot(df_numerical[feature], bins=50, color='#b30000', edgecolor='black', kde=True, ax=axes[1])\n",
    "        axes[1].set_title(f'Distribución de {feature}')\n",
    "        axes[1].set_xlabel(feature)\n",
    "        axes[1].set_ylabel('Frecuencia')\n",
    "\n",
    "        plt.show()\n"
   ]
  },
  {
   "cell_type": "markdown",
   "metadata": {},
   "source": [
    "##### Función Lightgbm"
   ]
  },
  {
   "cell_type": "code",
   "execution_count": null,
   "metadata": {},
   "outputs": [],
   "source": [
    "def lightgbm(X_train, y_train, X_test, y_test):\n",
    "\n",
    "    model_lightgbm = LGBMRegressor(\n",
    "        num_iterations=10000,\n",
    "        num_leaves=10,\n",
    "        learning_rate=0.1,\n",
    "        max_depth=20,\n",
    "        lambda_l2=0.1,\n",
    "        subsample=0.5,\n",
    "        feature_fraction=0.8,\n",
    "        verbosity=-1,\n",
    "        metric='rmse'\n",
    "    )\n",
    "\n",
    "    model_lightgbm.fit(\n",
    "        X_train, y_train,\n",
    "        eval_set=[(X_train, y_train), (X_test, y_test)],\n",
    "        eval_metric='rmse',\n",
    "        callbacks=[\n",
    "            early_stopping(stopping_rounds=20),\n",
    "            log_evaluation(period=100)\n",
    "        ]\n",
    "    )\n",
    "\n",
    "    predicciones_lightgbm = model_lightgbm.predict(X_test)\n",
    "    print(\"R^2\", r2_score(y_test, predicciones_lightgbm))\n",
    "    calibracion(predicciones_lightgbm, y_test, 20)\n",
    "    plot_importance(model_lightgbm, max_num_features=5, importance_type='split')\n",
    "    plot_importance(model_lightgbm, max_num_features=5, importance_type='gain')\n"
   ]
  },
  {
   "cell_type": "markdown",
   "metadata": {},
   "source": [
    "##### Función CatBoost"
   ]
  },
  {
   "cell_type": "code",
   "execution_count": null,
   "metadata": {},
   "outputs": [],
   "source": [
    "def catboost( X_train, y_train,X_test,y_test):\n",
    "    cat_cols = [col for col in X_train.columns if X_train[col].nunique() < 50]\n",
    "\n",
    "\n",
    "    for col in cat_cols:\n",
    "        X_train[col] = X_train[col].astype(str).fillna('missing')\n",
    "        X_test[col] = X_test[col].astype(str).fillna('missing')\n",
    "\n",
    "    model_catboost = CatBoostRegressor(\n",
    "        iterations=10_000,           \n",
    "        depth=5,                   \n",
    "        learning_rate=0.1,\n",
    "        subsample=0.5,              \n",
    "        rsm=0.8,                   \n",
    "        eval_metric='R2',\n",
    "        verbose = 100,\n",
    "        early_stopping_rounds=50    \n",
    "    )\n",
    "\n",
    "    model_catboost.fit(\n",
    "        X_train, y_train,\n",
    "        cat_features=cat_cols,\n",
    "        eval_set=[(X_test, y_test)],\n",
    "    )\n",
    "\n",
    "    predicciones_catboost = model_catboost.predict(X_test)\n",
    "    print('R^2:' ,r2_score(y_pred=predicciones_catboost, y_true=y_test))\n",
    "    calibracion(predicciones_catboost, y_test, 20)\n",
    "\n",
    "\n",
    "    df_importances = pd.DataFrame({\n",
    "        'feature': model_catboost.feature_names_,\n",
    "        'importance': model_catboost.feature_importances_\n",
    "    }).sort_values(by='importance', ascending=False)\n",
    "    return df_importances.head(5)\n"
   ]
  },
  {
   "cell_type": "markdown",
   "metadata": {},
   "source": [
    "##### Función XGBoost"
   ]
  },
  {
   "cell_type": "code",
   "execution_count": null,
   "metadata": {},
   "outputs": [],
   "source": [
    "def xgboost(X_train, y_train, X_test, y_test):\n",
    "\n",
    "    model_xgboost = XGBRegressor(\n",
    "        n_estimators=100,\n",
    "        max_depth=5,\n",
    "        learning_rate=0.1,\n",
    "        reg_lambda=0.1,\n",
    "        subsample=0.5,\n",
    "        colsample_by_tree=0.8,\n",
    "        tree_method='hist',\n",
    "        enable_categorical=True,\n",
    "        early_stopping_rounds=100,\n",
    "    )\n",
    "\n",
    "    model_xgboost.fit(X_train, y_train, eval_set=[(X_test, y_test)], verbose=100)\n",
    "\n",
    "    predicciones_xgboost= model_xgboost.predict(X_test)\n",
    "    print(f'R^2:',r2_score(y_test, predicciones_xgboost))\n",
    "    calibracion(predicciones_xgboost, y_test, 20)\n",
    "\n",
    "    xgb_plot_importance(model_xgboost, max_num_features=5, importance_type='weight')\n",
    "    xgb_plot_importance(model_xgboost, max_num_features=5, importance_type='gain')\n",
    "\n"
   ]
  },
  {
   "cell_type": "markdown",
   "metadata": {},
   "source": [
    "#### Bivariado"
   ]
  },
  {
   "cell_type": "code",
   "execution_count": null,
   "metadata": {},
   "outputs": [],
   "source": [
    "bivariado(df)"
   ]
  },
  {
   "cell_type": "markdown",
   "metadata": {},
   "source": [
    "#### **Modelo**"
   ]
  },
  {
   "cell_type": "markdown",
   "metadata": {},
   "source": [
    "Se pide que el modelo tenga: \n",
    "\n",
    "test set: 20%\n",
    "random_state: 42"
   ]
  },
  {
   "cell_type": "markdown",
   "metadata": {},
   "source": [
    "#### Correlación"
   ]
  },
  {
   "cell_type": "code",
   "execution_count": null,
   "metadata": {},
   "outputs": [],
   "source": [
    "df.corr()['diabetes'].sort_values(ascending=False)"
   ]
  },
  {
   "cell_type": "code",
   "execution_count": null,
   "metadata": {},
   "outputs": [],
   "source": [
    "df.drop('gender_Other', axis=1, inplace=True)"
   ]
  },
  {
   "cell_type": "code",
   "execution_count": null,
   "metadata": {},
   "outputs": [],
   "source": [
    "df.corr()['diabetes'].sort_values(ascending=False)"
   ]
  },
  {
   "cell_type": "markdown",
   "metadata": {},
   "source": [
    "## **Modelos**"
   ]
  },
  {
   "cell_type": "markdown",
   "metadata": {},
   "source": [
    "## Arboles de decisión"
   ]
  },
  {
   "cell_type": "markdown",
   "metadata": {},
   "source": [
    "Arbol con `max_depth`= 2 "
   ]
  },
  {
   "cell_type": "code",
   "execution_count": 213,
   "metadata": {},
   "outputs": [
    {
     "data": {
      "image/png": "[encoded data removed]",
      "text/plain": [
       "<Figure size 1000x400 with 1 Axes>"
      ]
     },
     "metadata": {},
     "output_type": "display_data"
    }
   ],
   "source": [
    "model = DecisionTreeRegressor(max_depth=2, random_state=42, \n",
    "                                  max_features='sqrt')\n",
    "model.fit(X, y)\n",
    "\n",
    "plt.figure(figsize=(10, 4)) \n",
    "plot_tree(model, feature_names=X.keys(), filled=True, rounded=True)\n",
    "plt.title(\"Árbol de Decisión para la predicción de diabetes\")\n",
    "plt.show()\n"
   ]
  },
  {
   "cell_type": "markdown",
   "metadata": {},
   "source": []
  },
  {
   "cell_type": "markdown",
   "metadata": {},
   "source": [
    "---"
   ]
  },
  {
   "cell_type": "markdown",
   "metadata": {},
   "source": [
    "## Random Forest"
   ]
  },
  {
   "cell_type": "markdown",
   "metadata": {},
   "source": [
    "### GridSearch"
   ]
  },
  {
   "cell_type": "code",
   "execution_count": null,
   "metadata": {},
   "outputs": [],
   "source": [
    "pipeline= Pipeline([\n",
    "    ('rf', RandomForestRegressor(n_estimators=100, n_jobs=-1, random_state=42))\n",
    "])\n",
    "\n",
    "params= {\n",
    "    'rf__max_depth': range(1, 50),\n",
    "    'rf__max_features': ['log2', 'sqrt', 18 ,len(X_train.keys())],  \n",
    "}\n",
    "\n",
    "rf_grid= GridSearchCV(estimator= pipeline, param_grid=params, cv=5, n_jobs=-1, scoring='r2')\n",
    "rf_grid.fit(X_train, y_train)\n",
    "\n",
    "rf_grid.best_params_"
   ]
  },
  {
   "cell_type": "code",
   "execution_count": null,
   "metadata": {},
   "outputs": [],
   "source": [
    "best_model= rf_grid.best_estimator_.named_steps['rf']"
   ]
  },
  {
   "cell_type": "code",
   "execution_count": null,
   "metadata": {},
   "outputs": [],
   "source": [
    "predicciones_rf= best_model.predict(X_test)\n",
    "\n",
    "print('R2: ', r2_score(y_pred= predicciones_rf, y_true=y_test))"
   ]
  },
  {
   "cell_type": "markdown",
   "metadata": {},
   "source": [
    "### RandomSearch"
   ]
  },
  {
   "cell_type": "code",
   "execution_count": null,
   "metadata": {},
   "outputs": [],
   "source": []
  },
  {
   "cell_type": "markdown",
   "metadata": {},
   "source": [
    "---"
   ]
  },
  {
   "cell_type": "markdown",
   "metadata": {},
   "source": [
    "## Gradient Boosting"
   ]
  },
  {
   "cell_type": "markdown",
   "metadata": {},
   "source": [
    "### Xgboost"
   ]
  },
  {
   "cell_type": "markdown",
   "metadata": {},
   "source": []
  },
  {
   "cell_type": "code",
   "execution_count": null,
   "metadata": {},
   "outputs": [],
   "source": [
    "xgboost(X_train, y_train, X_test, y_test)"
   ]
  },
  {
   "cell_type": "markdown",
   "metadata": {},
   "source": [
    "#### Lightgm"
   ]
  },
  {
   "cell_type": "markdown",
   "metadata": {},
   "source": []
  },
  {
   "cell_type": "code",
   "execution_count": null,
   "metadata": {},
   "outputs": [],
   "source": [
    "lightgbm(X_train, y_train, X_test, y_test)"
   ]
  },
  {
   "cell_type": "markdown",
   "metadata": {},
   "source": [
    "### Catboost"
   ]
  },
  {
   "cell_type": "markdown",
   "metadata": {},
   "source": []
  },
  {
   "cell_type": "code",
   "execution_count": null,
   "metadata": {},
   "outputs": [],
   "source": [
    "catboost(X_train, y_train, X_test, y_test)"
   ]
  }
 ],
 "metadata": {
  "kernelspec": {
   "display_name": "Python 3",
   "language": "python",
   "name": "python3"
  },
  "language_info": {
   "codemirror_mode": {
    "name": "ipython",
    "version": 3
   },
   "file_extension": ".py",
   "mimetype": "text/x-python",
   "name": "python",
   "nbconvert_exporter": "python",
   "pygments_lexer": "ipython3",
   "version": "3.12.8"
  }
 },
 "nbformat": 4,
 "nbformat_minor": 2
}
