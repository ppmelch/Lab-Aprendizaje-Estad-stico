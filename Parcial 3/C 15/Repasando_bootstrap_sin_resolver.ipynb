{
 "cells": [
  {
   "cell_type": "markdown",
   "id": "fe9c89ee-3614-4887-bb5d-5f87e3b9b3e7",
   "metadata": {},
   "source": [
    "### Concepto de bootstrap\n",
    "\n",
    "En estadística y machine learning, bootstrapping es una técnica de remuestreo que permite estimar la distribución de un estadístico sin necesidad de supuestos fuertes sobre la población.\n",
    "\n",
    "¿Cómo funciona?\n",
    "- Se toma una muestra original de tamaño $n$\n",
    "- Se generan múltiples muestras con reemplazo del mismo tamaño $n$\n",
    "- Se calcula el estadístico de interés (media, mediana, varianza, etc.) en cada muestra.\n",
    "- Se usa la distribución de estos estadísticos para estimar intervalos de confianza o la variabilidad del modelo.\n"
   ]
  },
  {
   "cell_type": "code",
   "execution_count": 1,
   "id": "91efceac-000f-4cdc-b161-2f0929e12fa5",
   "metadata": {},
   "outputs": [],
   "source": [
    "# Ejemplo\n",
    "import pandas as pd \n",
    "import numpy as np\n",
    "import matplotlib.pyplot as plt\n",
    "df = pd.DataFrame({\n",
    "    'Edad': [10, 20, 30, 40, 50, 70, 80, 90, 100],\n",
    "    'Default': [1, 0, 1, 1, 0, 1,0, 1,1]\n",
    "})"
   ]
  },
  {
   "cell_type": "code",
   "execution_count": 2,
   "id": "97b4fb7b-0987-4aba-9a3f-8132d16049b6",
   "metadata": {},
   "outputs": [],
   "source": [
    "# Tomar un row aleatorio\n"
   ]
  },
  {
   "cell_type": "code",
   "execution_count": 3,
   "id": "98e49d10-4bdf-4829-8d45-6ba483111d52",
   "metadata": {},
   "outputs": [],
   "source": [
    "# Crear dataser aleatorio\n"
   ]
  },
  {
   "cell_type": "code",
   "execution_count": null,
   "id": "6249f79a-1c6f-4e51-9f98-30d90c1613be",
   "metadata": {},
   "outputs": [
    {
     "data": {
      "text/plain": [
       "np.float64(-0.32076651393589234)"
      ]
     },
     "execution_count": 9,
     "metadata": {},
     "output_type": "execute_result"
    }
   ],
   "source": [
    "# Crear dataser aleatorio, permitiendo remplazo\n",
    "df.sample(len(df), replace=True)"
   ]
  },
  {
   "cell_type": "code",
   "execution_count": 8,
   "id": "1fe43113-114c-4ea4-a878-8c714bba5582",
   "metadata": {},
   "outputs": [
    {
     "data": {
      "text/html": [
       "<div>\n",
       "<style scoped>\n",
       "    .dataframe tbody tr th:only-of-type {\n",
       "        vertical-align: middle;\n",
       "    }\n",
       "\n",
       "    .dataframe tbody tr th {\n",
       "        vertical-align: top;\n",
       "    }\n",
       "\n",
       "    .dataframe thead th {\n",
       "        text-align: right;\n",
       "    }\n",
       "</style>\n",
       "<table border=\"1\" class=\"dataframe\">\n",
       "  <thead>\n",
       "    <tr style=\"text-align: right;\">\n",
       "      <th></th>\n",
       "      <th>Edad</th>\n",
       "      <th>Default</th>\n",
       "    </tr>\n",
       "  </thead>\n",
       "  <tbody>\n",
       "    <tr>\n",
       "      <th>Edad</th>\n",
       "      <td>1.000000</td>\n",
       "      <td>0.103975</td>\n",
       "    </tr>\n",
       "    <tr>\n",
       "      <th>Default</th>\n",
       "      <td>0.103975</td>\n",
       "      <td>1.000000</td>\n",
       "    </tr>\n",
       "  </tbody>\n",
       "</table>\n",
       "</div>"
      ],
      "text/plain": [
       "             Edad   Default\n",
       "Edad     1.000000  0.103975\n",
       "Default  0.103975  1.000000"
      ]
     },
     "execution_count": 8,
     "metadata": {},
     "output_type": "execute_result"
    }
   ],
   "source": [
    "# Bootrstrap es entonces una técnica para crear datasets ficticios\n",
    "# Ejemplo, correlación entre edad y default, varios ejemplos\n",
    "df.corr()"
   ]
  },
  {
   "cell_type": "code",
   "execution_count": 10,
   "id": "7b25f776",
   "metadata": {},
   "outputs": [
    {
     "data": {
      "text/plain": [
       "np.float64(0.42756912480901277)"
      ]
     },
     "execution_count": 10,
     "metadata": {},
     "output_type": "execute_result"
    }
   ],
   "source": [
    "df.sample(len(df), replace=True).corr()['Edad']['Default']"
   ]
  },
  {
   "cell_type": "code",
   "execution_count": 11,
   "id": "df8614ec-7b52-477a-958f-8e86fd9ca1b0",
   "metadata": {},
   "outputs": [],
   "source": [
    "correlaciones= []\n",
    "for i in range(1000):\n",
    "    correlaciones.append(df.sample(len(df), replace=True).corr()['Edad']['Default'])"
   ]
  },
  {
   "cell_type": "code",
   "execution_count": 13,
   "id": "b87f5f3e-8c5c-4ca6-8d83-ea66b7b6e3bd",
   "metadata": {},
   "outputs": [
    {
     "data": {
      "image/png": "[encoded data removed]",
      "text/plain": [
       "<Figure size 640x480 with 1 Axes>"
      ]
     },
     "metadata": {},
     "output_type": "display_data"
    }
   ],
   "source": [
    "plt.hist(correlaciones, bins=50)\n",
    "plt.show()"
   ]
  },
  {
   "cell_type": "code",
   "execution_count": 14,
   "id": "1fb92243-c4e0-4dae-b3f2-b96b6e0d72d5",
   "metadata": {},
   "outputs": [],
   "source": [
    "# Podemos hacer esto muchas veces y ver el histograma\n",
    "\n",
    "df_correlaciones= pd.DataFrame()\n",
    "df_correlaciones['correlaciones'] = correlaciones   "
   ]
  },
  {
   "cell_type": "code",
   "execution_count": 15,
   "id": "01c90432-b070-4271-a3c2-414c19633bb5",
   "metadata": {},
   "outputs": [
    {
     "data": {
      "text/plain": [
       "np.float64(0.099)"
      ]
     },
     "execution_count": 15,
     "metadata": {},
     "output_type": "execute_result"
    }
   ],
   "source": [
    "np.mean(df_correlaciones['correlaciones']>0.5)"
   ]
  },
  {
   "cell_type": "code",
   "execution_count": null,
   "id": "d393a1e5-ef87-44cb-91e2-f828b6760c6e",
   "metadata": {},
   "outputs": [],
   "source": []
  },
  {
   "cell_type": "code",
   "execution_count": 7,
   "id": "8ccecd01-246e-4bf0-b312-c7f476ec4048",
   "metadata": {},
   "outputs": [],
   "source": [
    "# ¿Cual es la probabiliad que la correlación sea positiva?\n"
   ]
  },
  {
   "cell_type": "code",
   "execution_count": null,
   "id": "bf7ac27b-e4b2-4eb2-b06f-aa5f8cf8644f",
   "metadata": {},
   "outputs": [],
   "source": []
  }
 ],
 "metadata": {
  "kernelspec": {
   "display_name": "Python 3",
   "language": "python",
   "name": "python3"
  },
  "language_info": {
   "codemirror_mode": {
    "name": "ipython",
    "version": 3
   },
   "file_extension": ".py",
   "mimetype": "text/x-python",
   "name": "python",
   "nbconvert_exporter": "python",
   "pygments_lexer": "ipython3",
   "version": "3.12.8"
  }
 },
 "nbformat": 4,
 "nbformat_minor": 5
}
