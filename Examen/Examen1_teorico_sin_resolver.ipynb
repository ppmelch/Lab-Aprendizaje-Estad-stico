{
 "cells": [
  {
   "cell_type": "markdown",
   "metadata": {},
   "source": [
    "josé Armando Melchor Soto\n",
    "\n",
    "### Sección 1: Conceptos Teóricos (40 puntos)\n",
    "(5 pts) ¿Cuál es la diferencia entre una regresión lineal simple y una regresión lineal múltiple? Da un ejemplo de cada una.\n",
    "\n",
    "Que en una se modela la relación entre una variable independiente (X) y una variable dependiente(Y).  Y esta se ajusta a una línea recta. \n",
    "Mientras que en la otra(múltiple) hay más variables independientes. \n",
    "\n",
    "Un ejemplo puede ser como en el df de las casas en california\n",
    "### Simple\n",
    "$Precio = \\beta_0 + \\beta_1 (Ubicación)$\n",
    "\n",
    "### Múltiple\n",
    "$Precio = \\beta_0 + \\beta_1(Ubicación) + \\beta_2(Camas) + \\beta_3(Habitaciones) +.... \\beta_n x_n $\n",
    "\n",
    "(5 pts) Explica el problema de overfitting y cómo podrías mitigarlo \n",
    "\n",
    "El problema es que se ajusta demasiado el modelo se ajusta demasiado a tu test , y esto provoca que no haya error, esto podria significar que tu modelo está memorizando de más tus datos. Esto se puede comprobar si haces Cross-Validation porque te da un error muy alto. Se puede mitigar utilizando Lasso o Ridge en el modelo ó dandole más datos a tu test.\n",
    "\n",
    "\n",
    "\n",
    "(5 pts) En regresión polinomial, ¿por qué es necesario realizar un análisis de validación cruzada antes de elegir el grado del polinomio?\n",
    "\n",
    "Porque nos ayuda a ver si el modelo que estabamos haciendo va de buena manera y está prediciendo bien, dividiendo los datos en partes y entretandolos de manera iterada, evita que haya overfitting y que esté memorizando tus datos. \n",
    "\n",
    "\n",
    "\n",
    "(5 pts) ¿Qué es una prueba de hipótesis en el contexto de regresión lineal? Explica cómo se interpreta el p-value de un coeficiente.\n",
    "\n",
    "Una prueba de hipotesis nos ayuda a saber si una variable del df es significativa para la prueba y con esto vemos si hay una relacion entre las variables. Si el p-value es mayor de 0.05, significa que no tienen tanto peso la variable. Si es menor que eso (0.05) significa que la variable es buena.\n",
    "\n",
    "\n",
    "\n",
    "(5 pts) ¿Por qué convertir variables categóricas en dummies puede mejorar el desempeño de un modelo? ¿En qué casos podríamos usar una codificación diferente?\n",
    "\n",
    "\n",
    "Porque al convertir variables categóricas en dummies nos permite que los modelos numéricos las procesen correctamente, ya que muchos algoritmos requieren que todas las variables sean numéricas. Esto mejora el rendimiento del modelo al evitar malinterpretaciones entre categorías y asegurarse de que el modelo no asuma una relación de orden entre ellas. \n",
    "Podríamos usarlo en casos como por eemplo, si nuestra variable es Tamaño con valores como 'Pequeño', 'Mediano' y 'Grande', convertirla en dummies asegura que el modelo no piense que 'Pequeño' es menor o mayor que 'Mediano'.\n",
    "Se pueden utilizar otros como label encoding , que esto lo que hace es que da un orden artificial asignandole numeros a cada categoria.\n",
    "\n",
    "\n",
    "(5 pts) Explica como se obtienen los coeficientes de una regresión lineal con decenso en gradiente (tanto para lineal como polinomio), me tiene que quedar claro que le entiendes\n",
    "\n",
    "Se tiene una derivada parcial que es la función de costo , a esta se le actualizan los coeficientes de la tasa de aprendizaje y a esto se le tiene que sacar la derivada iteradas veces hasta que converja.  Esto es un proceso que lo que se busca es el minimizar el error de la función de perdida, actualizando las betas con las derivadas parciales.\n",
    "\n",
    "\n",
    "(5 pts) Explica que es el teorema de Frisch-Waugh-Lovell\n",
    "\n",
    "Este es un modelo de regresión múltiple, el coeficiente estimado de una variable es el mismo que se obtendría al ajustar los residuos de las demás variables y luego hacer una regresión sobre esos residuos. Es útil para entender cómo aislar el efecto de una variable en presencia de otras.\n",
    "\n",
    "\n",
    "\n",
    "(5 pts) Explica que es K-nearest neighboors\n",
    "\n",
    "\n",
    "Es un algoritmo de aprendizaje que nos ayuda tanto a predecir como a clasificar, y se basa en el número de vecinos más cercanos según las características del punto. Este algoritmo calcula las distancias entre el punto a predecir y los datos de entrenamiento, selecciona los vecinos más cercanos, y luego hace un promedio de sus valores para obtener la predicción.\n",
    "\n",
    "\n",
    "### Sección 2 (20 puntos)\n",
    "\n",
    "(10 pts) Dado el siguiente dataset de casas:\n",
    "\n",
    "```\n",
    "data = pd.DataFrame({\n",
    "    \"Tamaño_m2\": [50, 80, 120, 200, 150, 90, 175, 60, 220, 130],\n",
    "    \"Habitaciones\": [1, 2, 3, 4, 3, 2, 3, 1, 5, 3],\n",
    "    \"Precio_1000s\": [110, 170, 250, 400, 270, 200, 330, 190, 600, 380]  })\n",
    "````\n",
    "\n",
    "\n",
    "\n",
    "a) Ajusta una regresión lineal para predecir el precio en función del tamaño y número de habitaciones, dime el R2 y coeficientes.\n",
    "\n",
    "\n",
    "b) Imagina que el coeficiente de Tamaño es 2.5 y el coeficiente de Habitaciones es 20, ¿cómo interpretarías estos valores?  \n",
    "\n",
    "$ Precio= \\beta_0 + 2.5(Tamaño) + 20(Habitaciones) $\n",
    "\n",
    "\n",
    "\n",
    "(20 pts) Imagina que entrenas un modelo de regresión polinomial de grado 5 y obtienes un 𝑅2 de 0.98 en el conjunto de entrenamiento y 0.65 en el conjunto de prueba.\n",
    "- a) ¿Qué problema podrías estar enfrentando?\n",
    "\n",
    "Podríamos estar hablando de overfitting ,El modelo ajusta demasiado a los datos de entrenamiento $R^2=  0.98 $,  pero no generaliza bien a los datos de prueba $R^2 = 0.65$, lo que indica que el modelo pudo haber ruido de los datos de entrenamiento.\n",
    "\n",
    "- b) ¿Cómo lo solucionarías sin reducir demasiado la capacidad del modelo?\n",
    "\n",
    "Se puede solucionar con una Regulización Lasso o Ridge o podemos ver si cuando bajamos el grado del polinomio el modelo sigue memorizando los datos o ya se está entrenando de manera correcta."
   ]
  },
  {
   "cell_type": "code",
   "execution_count": 44,
   "metadata": {},
   "outputs": [
    {
     "data": {
      "text/html": [
       "<div>\n",
       "<style scoped>\n",
       "    .dataframe tbody tr th:only-of-type {\n",
       "        vertical-align: middle;\n",
       "    }\n",
       "\n",
       "    .dataframe tbody tr th {\n",
       "        vertical-align: top;\n",
       "    }\n",
       "\n",
       "    .dataframe thead th {\n",
       "        text-align: right;\n",
       "    }\n",
       "</style>\n",
       "<table border=\"1\" class=\"dataframe\">\n",
       "  <thead>\n",
       "    <tr style=\"text-align: right;\">\n",
       "      <th></th>\n",
       "      <th>Tamaño_m2</th>\n",
       "      <th>Habitaciones</th>\n",
       "      <th>Precio_1000s</th>\n",
       "    </tr>\n",
       "  </thead>\n",
       "  <tbody>\n",
       "    <tr>\n",
       "      <th>0</th>\n",
       "      <td>50</td>\n",
       "      <td>1</td>\n",
       "      <td>110</td>\n",
       "    </tr>\n",
       "    <tr>\n",
       "      <th>1</th>\n",
       "      <td>80</td>\n",
       "      <td>2</td>\n",
       "      <td>170</td>\n",
       "    </tr>\n",
       "    <tr>\n",
       "      <th>2</th>\n",
       "      <td>120</td>\n",
       "      <td>3</td>\n",
       "      <td>250</td>\n",
       "    </tr>\n",
       "    <tr>\n",
       "      <th>3</th>\n",
       "      <td>200</td>\n",
       "      <td>4</td>\n",
       "      <td>400</td>\n",
       "    </tr>\n",
       "    <tr>\n",
       "      <th>4</th>\n",
       "      <td>150</td>\n",
       "      <td>3</td>\n",
       "      <td>270</td>\n",
       "    </tr>\n",
       "  </tbody>\n",
       "</table>\n",
       "</div>"
      ],
      "text/plain": [
       "   Tamaño_m2  Habitaciones  Precio_1000s\n",
       "0         50             1           110\n",
       "1         80             2           170\n",
       "2        120             3           250\n",
       "3        200             4           400\n",
       "4        150             3           270"
      ]
     },
     "execution_count": 44,
     "metadata": {},
     "output_type": "execute_result"
    }
   ],
   "source": [
    "import pandas as pd\n",
    "from sklearn.neighbors import KNeighborsRegressor\n",
    "from sklearn.model_selection import train_test_split\n",
    "from sklearn.metrics import mean_squared_error, r2_score\n",
    "from sklearn.preprocessing import StandardScaler\n",
    "import numpy as np\n",
    "from sklearn.metrics import r2_score\n",
    "import matplotlib.pyplot as plt\n",
    "from sklearn import linear_model\n",
    "import statsmodels.formula.api as smf\n",
    "\n",
    "df = pd.DataFrame({\n",
    "    \"Tamaño_m2\": [50, 80, 120, 200, 150, 90, 175, 60, 220, 130],\n",
    "    \"Habitaciones\": [1, 2, 3, 4, 3, 2, 3, 1, 5, 3],\n",
    "    \"Precio_1000s\": [110, 170, 250, 400, 270, 200, 330, 190, 600, 380]  })\n",
    "\n",
    "df.head()"
   ]
  },
  {
   "cell_type": "code",
   "execution_count": 45,
   "metadata": {},
   "outputs": [
    {
     "data": {
      "text/html": [
       "<div>\n",
       "<style scoped>\n",
       "    .dataframe tbody tr th:only-of-type {\n",
       "        vertical-align: middle;\n",
       "    }\n",
       "\n",
       "    .dataframe tbody tr th {\n",
       "        vertical-align: top;\n",
       "    }\n",
       "\n",
       "    .dataframe thead th {\n",
       "        text-align: right;\n",
       "    }\n",
       "</style>\n",
       "<table border=\"1\" class=\"dataframe\">\n",
       "  <thead>\n",
       "    <tr style=\"text-align: right;\">\n",
       "      <th></th>\n",
       "      <th>Tamaño_m2</th>\n",
       "      <th>Habitaciones</th>\n",
       "    </tr>\n",
       "  </thead>\n",
       "  <tbody>\n",
       "    <tr>\n",
       "      <th>Tamaño_m2</th>\n",
       "      <td>1.000000</td>\n",
       "      <td>0.958816</td>\n",
       "    </tr>\n",
       "    <tr>\n",
       "      <th>Habitaciones</th>\n",
       "      <td>0.958816</td>\n",
       "      <td>1.000000</td>\n",
       "    </tr>\n",
       "  </tbody>\n",
       "</table>\n",
       "</div>"
      ],
      "text/plain": [
       "              Tamaño_m2  Habitaciones\n",
       "Tamaño_m2      1.000000      0.958816\n",
       "Habitaciones   0.958816      1.000000"
      ]
     },
     "execution_count": 45,
     "metadata": {},
     "output_type": "execute_result"
    }
   ],
   "source": [
    "df[['Tamaño_m2', 'Habitaciones']].corr()"
   ]
  },
  {
   "cell_type": "code",
   "execution_count": 46,
   "metadata": {},
   "outputs": [],
   "source": [
    "X = df[['Tamaño_m2', 'Habitaciones']]\n",
    "y= df['Precio_1000s']"
   ]
  },
  {
   "cell_type": "code",
   "execution_count": 47,
   "metadata": {},
   "outputs": [
    {
     "name": "stdout",
     "output_type": "stream",
     "text": [
      "Mean Squared Error: 2472.8186867967524\n",
      "R^2 Score: 0.8661894650001758\n"
     ]
    }
   ],
   "source": [
    "model= linear_model.LinearRegression().fit(X, y)\n",
    "\n",
    "predicciones= model.predict(X)\n",
    "\n",
    "# Calcular métricas de rendimiento\n",
    "r2 = r2_score(y_pred=predicciones, y_true=y)\n",
    "mse_per_sample = (y - predicciones) ** 2\n",
    "\n",
    "mse = mean_squared_error(y_pred=predicciones, y_true=y)\n",
    "\n",
    "print('Mean Squared Error:', mse)\n",
    "print('R^2 Score:', r2)"
   ]
  },
  {
   "cell_type": "code",
   "execution_count": 48,
   "metadata": {},
   "outputs": [
    {
     "data": {
      "text/plain": [
       "array([ 0.44694488, 86.33385558])"
      ]
     },
     "execution_count": 48,
     "metadata": {},
     "output_type": "execute_result"
    }
   ],
   "source": [
    "model.coef_"
   ]
  },
  {
   "cell_type": "code",
   "execution_count": 49,
   "metadata": {},
   "outputs": [
    {
     "data": {
      "text/plain": [
       "np.float64(-0.08688221051124856)"
      ]
     },
     "execution_count": 49,
     "metadata": {},
     "output_type": "execute_result"
    }
   ],
   "source": [
    "model.intercept_"
   ]
  },
  {
   "cell_type": "code",
   "execution_count": 50,
   "metadata": {},
   "outputs": [],
   "source": [
    "predicciones= model.predict(X)\n"
   ]
  },
  {
   "cell_type": "code",
   "execution_count": 51,
   "metadata": {},
   "outputs": [
    {
     "data": {
      "image/png": "[encoded data removed]",
      "text/plain": [
       "<Figure size 640x480 with 1 Axes>"
      ]
     },
     "metadata": {},
     "output_type": "display_data"
    }
   ],
   "source": [
    "from matplotlib import pyplot as plt\n",
    "\n",
    "# Use the training data for plotting the predictions\n",
    "plt.plot(y, y, color='red', label='Modelo Perfecto')\n",
    "plt.scatter(y, predicciones, label='Predicciones')\n",
    "plt.grid()\n",
    "plt.legend()\n",
    "plt.show()"
   ]
  },
  {
   "cell_type": "markdown",
   "metadata": {},
   "source": [
    "### Sección 3: Implementación de Código (40 puntos)\n"
   ]
  },
  {
   "cell_type": "markdown",
   "metadata": {},
   "source": [
    "\n",
    "1- En el dataset Advertising.csv estan las ventas de una empresa y hay 3 canales de distribuición:\n",
    "    \n",
    "- radio\n",
    "- Televisión\n",
    "- Periodico\n",
    "\n",
    "\n",
    "La empresa quiere simplificar su operción y eliminar aquellos canales que no traen ventas.\n",
    "\n",
    "Dime que canal o canales no sirven con una prueba de hipotesis y una regresión\n",
    "\n",
    "\n",
    "    "
   ]
  },
  {
   "cell_type": "code",
   "execution_count": 52,
   "metadata": {},
   "outputs": [],
   "source": [
    "df= pd.read_csv('Advertising.csv')"
   ]
  },
  {
   "cell_type": "code",
   "execution_count": 53,
   "metadata": {},
   "outputs": [
    {
     "data": {
      "text/html": [
       "<div>\n",
       "<style scoped>\n",
       "    .dataframe tbody tr th:only-of-type {\n",
       "        vertical-align: middle;\n",
       "    }\n",
       "\n",
       "    .dataframe tbody tr th {\n",
       "        vertical-align: top;\n",
       "    }\n",
       "\n",
       "    .dataframe thead th {\n",
       "        text-align: right;\n",
       "    }\n",
       "</style>\n",
       "<table border=\"1\" class=\"dataframe\">\n",
       "  <thead>\n",
       "    <tr style=\"text-align: right;\">\n",
       "      <th></th>\n",
       "      <th>Unnamed: 0</th>\n",
       "      <th>TV</th>\n",
       "      <th>radio</th>\n",
       "      <th>newspaper</th>\n",
       "      <th>sales</th>\n",
       "    </tr>\n",
       "  </thead>\n",
       "  <tbody>\n",
       "    <tr>\n",
       "      <th>0</th>\n",
       "      <td>1</td>\n",
       "      <td>230.1</td>\n",
       "      <td>37.8</td>\n",
       "      <td>69.2</td>\n",
       "      <td>22.1</td>\n",
       "    </tr>\n",
       "    <tr>\n",
       "      <th>1</th>\n",
       "      <td>2</td>\n",
       "      <td>44.5</td>\n",
       "      <td>39.3</td>\n",
       "      <td>45.1</td>\n",
       "      <td>10.4</td>\n",
       "    </tr>\n",
       "    <tr>\n",
       "      <th>2</th>\n",
       "      <td>3</td>\n",
       "      <td>17.2</td>\n",
       "      <td>45.9</td>\n",
       "      <td>69.3</td>\n",
       "      <td>9.3</td>\n",
       "    </tr>\n",
       "    <tr>\n",
       "      <th>3</th>\n",
       "      <td>4</td>\n",
       "      <td>151.5</td>\n",
       "      <td>41.3</td>\n",
       "      <td>58.5</td>\n",
       "      <td>18.5</td>\n",
       "    </tr>\n",
       "    <tr>\n",
       "      <th>4</th>\n",
       "      <td>5</td>\n",
       "      <td>180.8</td>\n",
       "      <td>10.8</td>\n",
       "      <td>58.4</td>\n",
       "      <td>12.9</td>\n",
       "    </tr>\n",
       "  </tbody>\n",
       "</table>\n",
       "</div>"
      ],
      "text/plain": [
       "   Unnamed: 0     TV  radio  newspaper  sales\n",
       "0           1  230.1   37.8       69.2   22.1\n",
       "1           2   44.5   39.3       45.1   10.4\n",
       "2           3   17.2   45.9       69.3    9.3\n",
       "3           4  151.5   41.3       58.5   18.5\n",
       "4           5  180.8   10.8       58.4   12.9"
      ]
     },
     "execution_count": 53,
     "metadata": {},
     "output_type": "execute_result"
    }
   ],
   "source": [
    "df.head()"
   ]
  },
  {
   "cell_type": "code",
   "execution_count": 54,
   "metadata": {},
   "outputs": [
    {
     "name": "stdout",
     "output_type": "stream",
     "text": [
      "                            OLS Regression Results                            \n",
      "==============================================================================\n",
      "Dep. Variable:                  sales   R-squared:                       0.897\n",
      "Model:                            OLS   Adj. R-squared:                  0.896\n",
      "Method:                 Least Squares   F-statistic:                     570.3\n",
      "Date:                Tue, 18 Feb 2025   Prob (F-statistic):           1.58e-96\n",
      "Time:                        21:33:18   Log-Likelihood:                -386.18\n",
      "No. Observations:                 200   AIC:                             780.4\n",
      "Df Residuals:                     196   BIC:                             793.6\n",
      "Df Model:                           3                                         \n",
      "Covariance Type:            nonrobust                                         \n",
      "==============================================================================\n",
      "                 coef    std err          t      P>|t|      [0.025      0.975]\n",
      "------------------------------------------------------------------------------\n",
      "Intercept      2.9389      0.312      9.422      0.000       2.324       3.554\n",
      "TV             0.0458      0.001     32.809      0.000       0.043       0.049\n",
      "newspaper     -0.0010      0.006     -0.177      0.860      -0.013       0.011\n",
      "radio          0.1885      0.009     21.893      0.000       0.172       0.206\n",
      "==============================================================================\n",
      "Omnibus:                       60.414   Durbin-Watson:                   2.084\n",
      "Prob(Omnibus):                  0.000   Jarque-Bera (JB):              151.241\n",
      "Skew:                          -1.327   Prob(JB):                     1.44e-33\n",
      "Kurtosis:                       6.332   Cond. No.                         454.\n",
      "==============================================================================\n",
      "\n",
      "Notes:\n",
      "[1] Standard Errors assume that the covariance matrix of the errors is correctly specified.\n"
     ]
    }
   ],
   "source": [
    "model = smf.ols('sales ~ TV + newspaper + radio', data=df).fit()\n",
    "print(model.summary())"
   ]
  },
  {
   "cell_type": "markdown",
   "metadata": {},
   "source": [
    "Estadísticamente, el canal que no tiene impacto significativo es el de newspaper, ya que no hay suficiente evidencia para afirmar que tiene un efecto relevante en las ventas. Su coeficiente es negativo, lo que podría indicar que, en lugar de aumentar las ventas, podría estar reduciéndolas. Además, es el canal con el P-value más alto (superior a 0.05), con un P-value = 0.860, lo que refuerza la idea de que no es significativo."
   ]
  }
 ],
 "metadata": {
  "kernelspec": {
   "display_name": "Python 3",
   "language": "python",
   "name": "python3"
  },
  "language_info": {
   "codemirror_mode": {
    "name": "ipython",
    "version": 3
   },
   "file_extension": ".py",
   "mimetype": "text/x-python",
   "name": "python",
   "nbconvert_exporter": "python",
   "pygments_lexer": "ipython3",
   "version": "3.12.8"
  }
 },
 "nbformat": 4,
 "nbformat_minor": 4
}
