{
 "cells": [
  {
   "cell_type": "code",
   "execution_count": 1,
   "id": "983224e7",
   "metadata": {},
   "outputs": [
    {
     "name": "stdout",
     "output_type": "stream",
     "text": [
      "Hellothere\n"
     ]
    }
   ],
   "source": [
    "str1 = \"Hello\"\n",
    "str2 = 'there'\n",
    "bob = str1 + str2\n",
    "print(bob)"
   ]
  },
  {
   "cell_type": "code",
   "execution_count": 2,
   "id": "ad4ee81a",
   "metadata": {},
   "outputs": [
    {
     "name": "stdout",
     "output_type": "stream",
     "text": [
      "42\n"
     ]
    }
   ],
   "source": [
    "x = '40'\n",
    "y = int(x) + 2\n",
    "print(y)"
   ]
  },
  {
   "cell_type": "code",
   "execution_count": 3,
   "id": "600046e1",
   "metadata": {},
   "outputs": [
    {
     "name": "stdout",
     "output_type": "stream",
     "text": [
      "b\n",
      "a\n",
      "n\n",
      "a\n",
      "n\n",
      "a\n"
     ]
    }
   ],
   "source": []
  },
  {
   "cell_type": "code",
   "execution_count": 4,
   "id": "f5b6cebf",
   "metadata": {},
   "outputs": [
    {
     "name": "stdout",
     "output_type": "stream",
     "text": [
      "42\n"
     ]
    }
   ],
   "source": [
    "print(len('banana')*7)\n"
   ]
  },
  {
   "cell_type": "code",
   "execution_count": 7,
   "id": "8772a23d",
   "metadata": {},
   "outputs": [
    {
     "name": "stdout",
     "output_type": "stream",
     "text": [
      "HELLO BOB\n"
     ]
    }
   ],
   "source": [
    "greet = 'Hello Bob'\n",
    "print(greet.upper())"
   ]
  },
  {
   "cell_type": "code",
   "execution_count": 8,
   "id": "eec94141",
   "metadata": {},
   "outputs": [
    {
     "name": "stdout",
     "output_type": "stream",
     "text": [
      ".ma\n"
     ]
    }
   ],
   "source": [
    "data = 'From stephen.marquard@uct.ac.za Sat Jan  5 09:14:16 2008'\n",
    "pos = data.find('.')\n",
    "print(data[pos:pos+3])"
   ]
  },
  {
   "cell_type": "code",
   "execution_count": 21,
   "id": "b6ae0716",
   "metadata": {},
   "outputs": [
    {
     "data": {
      "text/plain": [
       "18"
      ]
     },
     "execution_count": 21,
     "metadata": {},
     "output_type": "execute_result"
    }
   ],
   "source": [
    "text = \"X-DSPAM-Confidence:    0.8475\"\n",
    "\n",
    "pos = text.find(':')\n",
    "pos\n",
    "\n"
   ]
  },
  {
   "cell_type": "code",
   "execution_count": null,
   "id": "a44e0b53",
   "metadata": {},
   "outputs": [],
   "source": []
  },
  {
   "cell_type": "code",
   "execution_count": 1,
   "id": "42b3b3cb",
   "metadata": {},
   "outputs": [
    {
     "name": "stdout",
     "output_type": "stream",
     "text": [
      "Alien\n"
     ]
    }
   ],
   "source": [
    "movies = [\"Avatar\", \"Titanic\", \"Avengers\"]\n",
    "movies.append(\"Alien\")\n",
    "print(movies[3])"
   ]
  },
  {
   "cell_type": "code",
   "execution_count": 2,
   "id": "a588fe2b",
   "metadata": {},
   "outputs": [
    {
     "name": "stdout",
     "output_type": "stream",
     "text": [
      "['Maths', 'English']\n"
     ]
    }
   ],
   "source": [
    "topic = [\"Maths\",\"English\",\"Physics\"]\n",
    "topic.pop(2)\n",
    "print(topic)"
   ]
  },
  {
   "cell_type": "code",
   "execution_count": null,
   "id": "717f1a42",
   "metadata": {},
   "outputs": [],
   "source": []
  }
 ],
 "metadata": {
  "kernelspec": {
   "display_name": "Python 3",
   "language": "python",
   "name": "python3"
  },
  "language_info": {
   "codemirror_mode": {
    "name": "ipython",
    "version": 3
   },
   "file_extension": ".py",
   "mimetype": "text/x-python",
   "name": "python",
   "nbconvert_exporter": "python",
   "pygments_lexer": "ipython3",
   "version": "3.12.8"
  }
 },
 "nbformat": 4,
 "nbformat_minor": 5
}
